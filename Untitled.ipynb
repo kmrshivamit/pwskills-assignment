{
 "cells": [
  {
   "cell_type": "markdown",
   "id": "9ab2ef61",
   "metadata": {},
   "source": [
    "Q1. Explain the following with an example:\n",
    "    1. Argificial Intelligence\n",
    "    2. Machine Learning\n",
    "    3. Deep Learning\n",
    "\n"
   ]
  },
  {
   "cell_type": "code",
   "execution_count": null,
   "id": "db46d04c",
   "metadata": {},
   "outputs": [],
   "source": []
  },
  {
   "cell_type": "markdown",
   "id": "71886fea",
   "metadata": {},
   "source": [
    "Q2: what is supervised learning? List some examples\n",
    "    of supervised learning.\n",
    "    "
   ]
  },
  {
   "cell_type": "code",
   "execution_count": 5,
   "id": "fc2f9ca0",
   "metadata": {},
   "outputs": [],
   "source": [
    "# Supervised learning is a type of machine learning algorithm where the computer is trained using labeled data. In this \n",
    "# approach, the algorithm is given a set of input data and corresponding output data, also called \"labels,\" and it learns \n",
    "# to predict the output for new input data.\n",
    "\n",
    "# Some examples of supervised learning include:\n",
    "\n",
    "# Image classification: Given a set of labeled images, the algorithm learns to classify new images into different categories, \n",
    "# such as identifying whether a picture contains a cat or a dog.\n",
    "\n",
    "# Spam filtering: Given a set of labeled emails, the algorithm learns to differentiate between spam and non-spam emails.\n",
    "\n",
    "# Language translation: Given a set of labeled text in one language and its corresponding translation in another language, \n",
    "#     the algorithm learns to translate new text from one language to another.\n",
    "\n",
    "# Credit scoring: Given a set of labeled data about customers' credit history and their loan repayment behavior, the \n",
    "# algorithm learns to predict the likelihood of future loan defaults.\n",
    "\n",
    "# Fraud detection: Given a set of labeled data about fraudulent and non-fraudulent transactions, the algorithm learns to \n",
    "# identify new fraudulent transactions.\n",
    "\n",
    "# Stock price prediction: Given a set of labeled data about historical stock prices and other factors such as economic \n",
    "# indicators, the algorithm learns to predict future stock prices.\n",
    "\n",
    "\n",
    "\n",
    "\n",
    "# There are two types of supervised learning.\n",
    "# 1. Classification\n",
    "# 2. Regression\n"
   ]
  },
  {
   "cell_type": "code",
   "execution_count": 4,
   "id": "820683b0",
   "metadata": {},
   "outputs": [],
   "source": [
    "# What is unsupervised learning? List some examples\n",
    "# of unsupervised learning?"
   ]
  },
  {
   "cell_type": "code",
   "execution_count": null,
   "id": "f422a9b7",
   "metadata": {},
   "outputs": [],
   "source": []
  }
 ],
 "metadata": {
  "kernelspec": {
   "display_name": "Python 3 (ipykernel)",
   "language": "python",
   "name": "python3"
  },
  "language_info": {
   "codemirror_mode": {
    "name": "ipython",
    "version": 3
   },
   "file_extension": ".py",
   "mimetype": "text/x-python",
   "name": "python",
   "nbconvert_exporter": "python",
   "pygments_lexer": "ipython3",
   "version": "3.9.13"
  }
 },
 "nbformat": 4,
 "nbformat_minor": 5
}
