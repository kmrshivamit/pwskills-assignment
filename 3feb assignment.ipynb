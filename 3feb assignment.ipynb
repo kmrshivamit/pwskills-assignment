{
 "cells": [
  {
   "cell_type": "code",
   "execution_count": 1,
   "id": "5f5f3f15",
   "metadata": {},
   "outputs": [],
   "source": [
    "# Q1. Which keyword is used to create a function? Create a function to return a list of odd numbers in the\n",
    "# range of 1 to 25."
   ]
  },
  {
   "cell_type": "code",
   "execution_count": 5,
   "id": "3be79b30",
   "metadata": {},
   "outputs": [],
   "source": [
    "def odd():\n",
    "    return list(range(0,25,2))"
   ]
  },
  {
   "cell_type": "code",
   "execution_count": 8,
   "id": "bb79590e",
   "metadata": {},
   "outputs": [
    {
     "name": "stdout",
     "output_type": "stream",
     "text": [
      "[0, 2, 4, 6, 8, 10, 12, 14, 16, 18, 20, 22, 24]\n"
     ]
    }
   ],
   "source": [
    "print(odd())"
   ]
  },
  {
   "cell_type": "code",
   "execution_count": 9,
   "id": "3242152b",
   "metadata": {},
   "outputs": [],
   "source": [
    "# Q2. Why *args and **kwargs is used in some functions? Create a function each for *args and **kwargs\n",
    "# to demonstrate their use."
   ]
  },
  {
   "cell_type": "code",
   "execution_count": 10,
   "id": "98004ce7",
   "metadata": {},
   "outputs": [
    {
     "name": "stdout",
     "output_type": "stream",
     "text": [
      "19.0\n",
      "Key name Value Shivam\n",
      "Key company Value LTI\n",
      "None\n"
     ]
    }
   ],
   "source": [
    "#args in python is used to keep the function arguments as tuple\n",
    "#kwargs in python is used to keep the function arguments as dictionary which is key value pairs.\n",
    "\n",
    "def average(*args):\n",
    "    return sum(args)/len(args)\n",
    "\n",
    "def print_key_value(**kargs):\n",
    "    for k,v in kargs.items():\n",
    "        print('Key '+k+' Value '+v)\n",
    "        \n",
    "print(average(1,2,33,4,55))\n",
    "print(print_key_value(name='Shivam',company='LTI'))"
   ]
  },
  {
   "cell_type": "code",
   "execution_count": 10,
   "id": "858aa539",
   "metadata": {},
   "outputs": [],
   "source": [
    "# Q3. What is an iterator in python? Name the method used to initialise the iterator object and the method\n",
    "# used for iteration. Use these methods to print the first five elements of the given list [2, 4, 6, 8, 10, 12, 14,\n",
    "# 16, 18, 20]."
   ]
  },
  {
   "cell_type": "code",
   "execution_count": 12,
   "id": "0a1ef247",
   "metadata": {},
   "outputs": [
    {
     "name": "stdout",
     "output_type": "stream",
     "text": [
      "2\n",
      "4\n",
      "6\n",
      "8\n",
      "10\n"
     ]
    }
   ],
   "source": [
    "#Iterators are methods used to iterate though the collections such as list, set,etc.\n",
    "#iter() method is used to initialise the iterator and next() is used to iterate.\n",
    "\n",
    "\n",
    "a=[2, 4, 6, 8, 10, 12, 14, 16, 18, 20]\n",
    "i=iter(a)\n",
    "count=1\n",
    "while count<=5:\n",
    "    try:\n",
    "        num=next(i)\n",
    "        print(num)\n",
    "        count =count+1\n",
    "    except:\n",
    "        break\n",
    "        \n",
    "\n",
    "    "
   ]
  },
  {
   "cell_type": "code",
   "execution_count": 1,
   "id": "9335babd",
   "metadata": {},
   "outputs": [],
   "source": [
    "# Q4. What is a generator function in python? Why yield keyword is used? Give an example of a generator\n",
    "# function."
   ]
  },
  {
   "cell_type": "code",
   "execution_count": 14,
   "id": "0ae77719",
   "metadata": {},
   "outputs": [
    {
     "name": "stdout",
     "output_type": "stream",
     "text": [
      "2\n",
      "4\n",
      "6\n",
      "8\n"
     ]
    }
   ],
   "source": [
    "# generator function is used to calculate and provide the output of function one by one\n",
    "# yield keyword returns output and also remembers the previous control of function\n",
    "#Example of generator to return n even numbers \n",
    "def  evennumbers(n):\n",
    "     for i in range(1,n):\n",
    "            if i%2==0:\n",
    "                yield i\n",
    "\n",
    "e=evennumbers(10)\n",
    "\n",
    "while True:\n",
    "    try:\n",
    "        print(next(e))\n",
    "    except StopIteration:\n",
    "        break\n",
    "        \n",
    "    \n",
    "\n",
    "                \n",
    "\n",
    "    \n"
   ]
  },
  {
   "cell_type": "code",
   "execution_count": 15,
   "id": "60796b7c",
   "metadata": {},
   "outputs": [],
   "source": [
    "# Q5. Create a generator function for prime numbers less than 1000. Use the next() method to print the\n",
    "# first 20 prime numbers."
   ]
  },
  {
   "cell_type": "code",
   "execution_count": 31,
   "id": "5a3f1c3f",
   "metadata": {},
   "outputs": [
    {
     "name": "stdout",
     "output_type": "stream",
     "text": [
      "2\n",
      "3\n",
      "5\n",
      "7\n",
      "11\n",
      "13\n",
      "17\n",
      "19\n",
      "23\n",
      "29\n",
      "31\n",
      "37\n",
      "41\n",
      "43\n",
      "47\n",
      "53\n",
      "59\n",
      "61\n",
      "67\n",
      "71\n"
     ]
    }
   ],
   "source": [
    "def prime():\n",
    "    for i in range(2,1000):\n",
    "        j=int(i/2)\n",
    "        while(j>1):\n",
    "                if i%j==0:\n",
    "                    break\n",
    "                j=j-1\n",
    "        if(j==1):\n",
    "                yield i\n",
    "ans=prime()\n",
    "for i in range(20):\n",
    "    print(next(ans))"
   ]
  },
  {
   "cell_type": "code",
   "execution_count": null,
   "id": "9bb5540f",
   "metadata": {},
   "outputs": [],
   "source": [
    "# Q6: Write a python program to print the first 10 Fibonacci numbers using a while loop."
   ]
  },
  {
   "cell_type": "code",
   "execution_count": 35,
   "id": "8ea95177",
   "metadata": {},
   "outputs": [
    {
     "name": "stdout",
     "output_type": "stream",
     "text": [
      "0\n",
      "1\n",
      "1\n",
      "2\n",
      "3\n",
      "5\n",
      "8\n",
      "13\n",
      "21\n",
      "34\n"
     ]
    }
   ],
   "source": [
    "    a, b = 0, 1\n",
    "    n=10\n",
    "    while n > 0:\n",
    "        print(a)\n",
    "        a, b = b, a + b\n",
    "        n -= 1"
   ]
  },
  {
   "cell_type": "code",
   "execution_count": 13,
   "id": "345af266",
   "metadata": {},
   "outputs": [],
   "source": [
    "# Q7. Write a List Comprehension to iterate through the given string: ‘pwskills’.\n",
    "# Expected output: ['p', 'w', 's', 'k', 'i', 'l', 'l', 's']"
   ]
  },
  {
   "cell_type": "code",
   "execution_count": 14,
   "id": "f1af59c5",
   "metadata": {},
   "outputs": [
    {
     "name": "stdout",
     "output_type": "stream",
     "text": [
      "['p', 'w', 's', 'k', 'i', 'l', 'l', 's']\n"
     ]
    }
   ],
   "source": [
    "print([i for i in 'pwskills'])"
   ]
  },
  {
   "cell_type": "code",
   "execution_count": null,
   "id": "3cd2ebb5",
   "metadata": {},
   "outputs": [],
   "source": [
    "# Q8. Write a python program to check whether a given number is Palindrome or not using a while loop."
   ]
  },
  {
   "cell_type": "code",
   "execution_count": 36,
   "id": "adde592d",
   "metadata": {},
   "outputs": [],
   "source": [
    "def is_Palindrom(string):\n",
    "     return string==string[::-1]\n",
    "is"
   ]
  },
  {
   "cell_type": "code",
   "execution_count": 15,
   "id": "566c51fc",
   "metadata": {},
   "outputs": [],
   "source": [
    "# Q9. Write a code to print odd numbers from 1 to 100 using list comprehension."
   ]
  },
  {
   "cell_type": "code",
   "execution_count": 16,
   "id": "0964b816",
   "metadata": {},
   "outputs": [
    {
     "name": "stdout",
     "output_type": "stream",
     "text": [
      "[1, 3, 5, 7, 9, 11, 13, 15, 17, 19, 21, 23, 25, 27, 29, 31, 33, 35, 37, 39, 41, 43, 45, 47, 49, 51, 53, 55, 57, 59, 61, 63, 65, 67, 69, 71, 73, 75, 77, 79, 81, 83, 85, 87, 89, 91, 93, 95, 97, 99]\n"
     ]
    }
   ],
   "source": [
    "print([i for i in range(1,100,2)])"
   ]
  },
  {
   "cell_type": "code",
   "execution_count": null,
   "id": "fa0c8135",
   "metadata": {},
   "outputs": [],
   "source": []
  }
 ],
 "metadata": {
  "kernelspec": {
   "display_name": "Python 3 (ipykernel)",
   "language": "python",
   "name": "python3"
  },
  "language_info": {
   "codemirror_mode": {
    "name": "ipython",
    "version": 3
   },
   "file_extension": ".py",
   "mimetype": "text/x-python",
   "name": "python",
   "nbconvert_exporter": "python",
   "pygments_lexer": "ipython3",
   "version": "3.9.13"
  }
 },
 "nbformat": 4,
 "nbformat_minor": 5
}
