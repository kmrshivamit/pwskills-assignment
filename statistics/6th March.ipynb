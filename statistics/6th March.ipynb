{
 "cells": [
  {
   "cell_type": "markdown",
   "metadata": {},
   "source": [
    "# Q1. What is Statistics?"
   ]
  },
  {
   "cell_type": "markdown",
   "metadata": {},
   "source": [
    "It is the science of analysing data large data and finding information from it."
   ]
  },
  {
   "cell_type": "markdown",
   "metadata": {},
   "source": [
    "# Q2. Define the different types of statistics and give an example of when each type might be used."
   ]
  },
  {
   "cell_type": "markdown",
   "metadata": {},
   "source": [
    "There are two types of statistics\n",
    "1. Inferential Statistics\n",
    "2. Descreptive Statistics\n",
    "\n",
    "1. Inferential Statistics: It is used to describe and predict for the population based on sample.\n",
    "\n",
    "2. Descreptive Statistics: It is used to summerrize and describe the characteristics of the data set.\n",
    "         Highest/Lowest in class\n",
    "         Average in class\n"
   ]
  },
  {
   "cell_type": "markdown",
   "metadata": {},
   "source": [
    "# Q3. What are the different types of data and how do they differ from each other? Provide an example of each type of data."
   ]
  },
  {
   "cell_type": "markdown",
   "metadata": {},
   "source": [
    "Following are the different types of data\n",
    "1. Quantitative Data: It consists of numberical data.\n",
    "   1. Descrete: It consists of set of values such as age,number of items.\n",
    "   2. Contineous: It consists of range of values such as height,weight etc.\n",
    "2. Qualitative Data: It consists of string values.\n",
    "    1. Nominal: It can't be ordered. Such as  Gnder,color\n",
    "    2. Ordinal: it consists of values in terms of rank such as Position, review"
   ]
  },
  {
   "cell_type": "markdown",
   "metadata": {},
   "source": [
    "# Q4. Categorise the following datasets with respect to quantitative and qualitative data types:\n",
    "\n",
    "\n",
    "(i) Grading in exam: A+, A, B+, B, C+, C, D, E\n",
    "\n",
    "(ii) Colour of mangoes: yellow, green, orange, red\n",
    "\n",
    "(iii) Height data of a class: [178.9, 179, 179.5, 176, 177.2, 178.3, 175.8,...]\n",
    "\n",
    "(iv) Number of mangoes exported by a farm: [500, 600, 478, 672, ...]"
   ]
  },
  {
   "cell_type": "markdown",
   "metadata": {},
   "source": [
    "\n",
    "(i) Grading in exam: A+, A, B+, B, C+, C, D, E : Qualitative\n",
    "\n",
    "(ii) Colour of mangoes: yellow, green, orange, red : Qualitative\n",
    "\n",
    "(iii) Height data of a class: [178.9, 179, 179.5, 176, 177.2, 178.3, 175.8,...] : Quantitative\n",
    "\n",
    "(iv) Number of mangoes exported by a farm: [500, 600, 478, 672, ...] : Quantitative"
   ]
  },
  {
   "cell_type": "markdown",
   "metadata": {},
   "source": [
    "\n",
    "# Q5. Explain the concept of levels of measurement and give an example of a variable for each level."
   ]
  },
  {
   "cell_type": "code",
   "execution_count": 4,
   "metadata": {},
   "outputs": [],
   "source": [
    "# 1. Nominal level of measurement: \n",
    "#     It is used when we have data which is categorical and can't be ordared. \n",
    "# Example: Blood Group\n",
    "# 2. Ordinal level of measurement:\n",
    "#     It is used when we have data which is categorical and we can order them.\n",
    "# Example: Rank\n",
    "\n",
    "# 3.Interval Level of measurement:\n",
    "#     It does not have ratio, such as temperature, rank etc\n",
    "\n",
    "# 4. Ratio Level of measurement:\n",
    "#     It has absolute 0 value and ratio can be calculated.\n",
    "#     salary, height, weight\n",
    "    "
   ]
  },
  {
   "cell_type": "markdown",
   "metadata": {},
   "source": [
    "# Q6. Why is it important to understand the level of measurement when analyzing data? Provide an\n",
    "# example to illustrate your answer."
   ]
  },
  {
   "cell_type": "code",
   "execution_count": 2,
   "metadata": {},
   "outputs": [],
   "source": [
    "# For instance, nominal variables are categorical and cannot be ranked, so they are best analyzed with non-parametric tests. Examples of nominal variables include gender, race, and religion. Ordinal variables, on the other hand, can be ranked but the distance between the ranks is not known. \n",
    "# They are best analyzed with non-parametric tests or ordinal regression. Examples of ordinal variables include education\n",
    "# level, income level, and satisfaction ratings.\n",
    "\n",
    "# Interval and ratio variables are quantitative and can be analyzed with parametric tests. \n",
    "# Interval variables have equal intervals between values but no true zero point, such as temperature measured in \n",
    "# Celsius or Fahrenheit. Ratio variables have equal intervals and a true zero point, such as weight, height, and age."
   ]
  },
  {
   "cell_type": "markdown",
   "metadata": {},
   "source": [
    "# Q7. How nominal data type is different from ordinal data type."
   ]
  },
  {
   "cell_type": "code",
   "execution_count": 4,
   "metadata": {},
   "outputs": [],
   "source": [
    "# In summary, nominal and ordinal data types differ in their level of measurement and the nature of their categories. \n",
    "# Nominal data consists of categories that cannot be ordered or ranked, while ordinal data consists of categories that\n",
    "# can be ordered but the distance between them is not equal."
   ]
  },
  {
   "cell_type": "markdown",
   "metadata": {},
   "source": [
    "# Q8. Which type of plot can be used to display data in terms of range?"
   ]
  },
  {
   "cell_type": "code",
   "execution_count": null,
   "metadata": {},
   "outputs": [],
   "source": [
    "# A box plot, also known as a box-and-whisker plot, is a type of plot that can be used to display data in terms of range.\n",
    "# A box plot provides a visual summary of the distribution of a dataset by showing the median, quartiles, and extremes of \n",
    "# the data."
   ]
  },
  {
   "cell_type": "markdown",
   "metadata": {},
   "source": [
    "# Q9. Describe the difference between descriptive and inferential statistics. Give an example of each type of statistics and explain how they are used."
   ]
  },
  {
   "cell_type": "code",
   "execution_count": 5,
   "metadata": {},
   "outputs": [],
   "source": [
    "# Descriptive Statistics: It is used to describe the current data and get cunclusion from them. Example Mean, Median ,Mode\n",
    "# Inferential Statistics: It is used to get conclusion for population data based on sample data. Example Exit Pool of Election"
   ]
  },
  {
   "cell_type": "markdown",
   "metadata": {},
   "source": [
    "# Q10. What are some common measures of central tendency and variability used in statistics? Explain how each measure can be used to describe a dataset."
   ]
  },
  {
   "cell_type": "code",
   "execution_count": 8,
   "metadata": {},
   "outputs": [],
   "source": [
    "# Measures of central tendency and variability are used in statistics to describe the characteristics of a dataset. \n",
    "# Central tendency measures indicate the typical or central value of the data, while variability measures indicate the \n",
    "# spread or dispersion of the data."
   ]
  },
  {
   "cell_type": "code",
   "execution_count": null,
   "metadata": {},
   "outputs": [],
   "source": []
  },
  {
   "cell_type": "code",
   "execution_count": null,
   "metadata": {},
   "outputs": [],
   "source": []
  }
 ],
 "metadata": {
  "kernelspec": {
   "display_name": "Python 3 (ipykernel)",
   "language": "python",
   "name": "python3"
  },
  "language_info": {
   "codemirror_mode": {
    "name": "ipython",
    "version": 3
   },
   "file_extension": ".py",
   "mimetype": "text/x-python",
   "name": "python",
   "nbconvert_exporter": "python",
   "pygments_lexer": "ipython3",
   "version": "3.9.13"
  }
 },
 "nbformat": 4,
 "nbformat_minor": 2
}
