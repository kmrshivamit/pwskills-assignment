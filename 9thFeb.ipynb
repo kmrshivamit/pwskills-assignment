{
 "cells": [
  {
   "cell_type": "code",
   "execution_count": 1,
   "id": "864c7f6c",
   "metadata": {},
   "outputs": [],
   "source": [
    "# Q1, Create a vehicle class with an init method having instance variables as name_of_vehicle, max_speed\n",
    "# and average_of_vehicle."
   ]
  },
  {
   "cell_type": "code",
   "execution_count": 2,
   "id": "7cd9d467",
   "metadata": {},
   "outputs": [],
   "source": [
    "class Vehicle:\n",
    "    def __init__(self,name_of_vehicle,max_speed,average_of_vehicle):\n",
    "        self.__name_of_vehicle__=name_of_vehicle\n",
    "        self.__max_speed__=max_speed\n",
    "        self.average_of_vehicle=average_of_vehicle\n",
    "    def name_of_vehicle(self):\n",
    "        return self.__name_of_vehicle__"
   ]
  },
  {
   "cell_type": "code",
   "execution_count": 3,
   "id": "7cdf1549",
   "metadata": {},
   "outputs": [],
   "source": [
    "# Q2. Create a child class car from the vehicle class created in Que 1, which will inherit the vehicle class.\n",
    "# Create a method named seating_capacity which takes capacity as an argument and returns the name of\n",
    "# the vehicle and its seating capacity."
   ]
  },
  {
   "cell_type": "code",
   "execution_count": 4,
   "id": "a5fa7e05",
   "metadata": {},
   "outputs": [],
   "source": [
    "class Car(Vehicle):\n",
    "    \n",
    "    def __init__(self,name_of_vehicle,max_speed,average_of_vehicle):\n",
    "        super().__init__(name_of_vehicle, max_speed, average_of_vehicle)\n",
    "\n",
    "    def seating_capacity(self,capacity):\n",
    "        self.capacity=capacity\n",
    "        return self.name_of_vehicle()\n"
   ]
  },
  {
   "cell_type": "code",
   "execution_count": 5,
   "id": "1c79dd32",
   "metadata": {},
   "outputs": [],
   "source": [
    "car=Car('Car',100,44)"
   ]
  },
  {
   "cell_type": "code",
   "execution_count": 6,
   "id": "fe2a1eea",
   "metadata": {},
   "outputs": [
    {
     "data": {
      "text/plain": [
       "'Car'"
      ]
     },
     "execution_count": 6,
     "metadata": {},
     "output_type": "execute_result"
    }
   ],
   "source": [
    "car.seating_capacity(20)"
   ]
  },
  {
   "cell_type": "code",
   "execution_count": 7,
   "id": "91cd27cd",
   "metadata": {},
   "outputs": [],
   "source": [
    "# Q3. What is multiple inheritance? Write a python code to demonstrate multiple inheritance."
   ]
  },
  {
   "cell_type": "code",
   "execution_count": 8,
   "id": "a3a8e6bd",
   "metadata": {},
   "outputs": [
    {
     "name": "stdout",
     "output_type": "stream",
     "text": [
      "This is method A\n",
      "This is method B\n",
      "This is method C\n"
     ]
    }
   ],
   "source": [
    "class A:\n",
    "    def methodA(self):\n",
    "        print(\"This is method A\")\n",
    "\n",
    "class B:\n",
    "    def methodB(self):\n",
    "        print(\"This is method B\")\n",
    "\n",
    "class C(A, B):\n",
    "    def methodC(self):\n",
    "        print(\"This is method C\")\n",
    "\n",
    "# Create an object of the C class\n",
    "obj = C()\n",
    "\n",
    "# Call methods from all three classes\n",
    "obj.methodA()\n",
    "obj.methodB()\n",
    "obj.methodC()\n"
   ]
  },
  {
   "cell_type": "code",
   "execution_count": 9,
   "id": "b53eeb35",
   "metadata": {},
   "outputs": [],
   "source": [
    "# Q4. What are getter and setter in python? Create a class and create a getter and a setter method in this\n",
    "# class."
   ]
  },
  {
   "cell_type": "code",
   "execution_count": 17,
   "id": "648decae",
   "metadata": {},
   "outputs": [],
   "source": [
    "class Person:\n",
    "    def __init__(self, name, age):\n",
    "        self._name = name\n",
    "        self._age = age\n",
    "\n",
    "    @property\n",
    "    def name(self):\n",
    "        return self._name\n",
    "\n",
    "    @name.setter\n",
    "    def name(self, name):\n",
    "        self._name = name\n",
    "\n",
    "    @property\n",
    "    def age(self):\n",
    "        return self._age\n",
    "\n",
    "    @age.setter\n",
    "    def age(self, age):\n",
    "        if age < 0:\n",
    "            print(\"Age cannot be negative\")\n",
    "        else:\n",
    "            self._age = age"
   ]
  },
  {
   "cell_type": "code",
   "execution_count": 18,
   "id": "45104771",
   "metadata": {},
   "outputs": [],
   "source": [
    " p= Person('Shivam',22)"
   ]
  },
  {
   "cell_type": "code",
   "execution_count": 19,
   "id": "0cd335e2",
   "metadata": {},
   "outputs": [
    {
     "data": {
      "text/plain": [
       "22"
      ]
     },
     "execution_count": 19,
     "metadata": {},
     "output_type": "execute_result"
    }
   ],
   "source": [
    "p.age"
   ]
  },
  {
   "cell_type": "code",
   "execution_count": 20,
   "id": "2cd79da5",
   "metadata": {},
   "outputs": [],
   "source": [
    "p.age=23"
   ]
  },
  {
   "cell_type": "code",
   "execution_count": 14,
   "id": "177f0442",
   "metadata": {},
   "outputs": [
    {
     "data": {
      "text/plain": [
       "23"
      ]
     },
     "execution_count": 14,
     "metadata": {},
     "output_type": "execute_result"
    }
   ],
   "source": [
    "p.age"
   ]
  },
  {
   "cell_type": "code",
   "execution_count": 21,
   "id": "29d3d012",
   "metadata": {},
   "outputs": [],
   "source": [
    "# Q5.What is method overriding in python? Write a python code to demonstrate method overriding."
   ]
  },
  {
   "cell_type": "code",
   "execution_count": 26,
   "id": "6ea8d629",
   "metadata": {},
   "outputs": [],
   "source": [
    "# overriding is a concept which means having multiple forms, for example the same sum function can be used to concet string\n",
    "# or to add two numbers"
   ]
  },
  {
   "cell_type": "code",
   "execution_count": 27,
   "id": "ce69c312",
   "metadata": {},
   "outputs": [],
   "source": [
    "def sum(a,b):\n",
    "    print(a+b)"
   ]
  },
  {
   "cell_type": "code",
   "execution_count": 28,
   "id": "f600f03d",
   "metadata": {},
   "outputs": [
    {
     "name": "stdout",
     "output_type": "stream",
     "text": [
      "Ram Jha\n"
     ]
    }
   ],
   "source": [
    "sum('Ram',' Jha')"
   ]
  },
  {
   "cell_type": "code",
   "execution_count": 29,
   "id": "a3a7f7bd",
   "metadata": {},
   "outputs": [
    {
     "name": "stdout",
     "output_type": "stream",
     "text": [
      "6\n"
     ]
    }
   ],
   "source": [
    "sum(2,4)"
   ]
  },
  {
   "cell_type": "code",
   "execution_count": null,
   "id": "028396c4",
   "metadata": {},
   "outputs": [],
   "source": []
  }
 ],
 "metadata": {
  "kernelspec": {
   "display_name": "Python 3 (ipykernel)",
   "language": "python",
   "name": "python3"
  },
  "language_info": {
   "codemirror_mode": {
    "name": "ipython",
    "version": 3
   },
   "file_extension": ".py",
   "mimetype": "text/x-python",
   "name": "python",
   "nbconvert_exporter": "python",
   "pygments_lexer": "ipython3",
   "version": "3.9.13"
  }
 },
 "nbformat": 4,
 "nbformat_minor": 5
}
