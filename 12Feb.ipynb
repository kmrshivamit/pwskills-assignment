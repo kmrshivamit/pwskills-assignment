{
 "cells": [
  {
   "cell_type": "code",
   "execution_count": 1,
   "id": "bd90c619",
   "metadata": {},
   "outputs": [],
   "source": [
    "# Q1. What is exception in python? Write the difference between\n",
    "# exception and syntax errors."
   ]
  },
  {
   "cell_type": "code",
   "execution_count": null,
   "id": "edc68fae",
   "metadata": {},
   "outputs": [],
   "source": [
    "# In Python, an exception is an event that occurs during the execution of a program that disrupts the normal flow of the program's instructions. When an exception occurs, Python generates an object that represents the exception and stops executing the current code block. If the exception is not handled, the program will terminate with an error message.\n",
    "\n",
    "# Syntax errors, on the other hand, occur when the Python interpreter encounters code that violates its grammar rules, resulting in a parsing error. This type of error is also called a parsing error, because the interpreter cannot parse the code due to the syntax error.\n",
    "\n"
   ]
  },
  {
   "cell_type": "code",
   "execution_count": 2,
   "id": "27dd399d",
   "metadata": {},
   "outputs": [],
   "source": [
    "# Q2. What happens when an exception is not handled? Explain with \n",
    "# example"
   ]
  },
  {
   "cell_type": "code",
   "execution_count": null,
   "id": "61f6d0cd",
   "metadata": {},
   "outputs": [],
   "source": [
    "# when an exception is not handeled, the program will terminate\n",
    "# with error message"
   ]
  },
  {
   "cell_type": "code",
   "execution_count": 4,
   "id": "7c3b502e",
   "metadata": {},
   "outputs": [
    {
     "ename": "ZeroDivisionError",
     "evalue": "division by zero",
     "output_type": "error",
     "traceback": [
      "\u001b[1;31m---------------------------------------------------------------------------\u001b[0m",
      "\u001b[1;31mZeroDivisionError\u001b[0m                         Traceback (most recent call last)",
      "\u001b[1;32m~\\AppData\\Local\\Temp\\ipykernel_30220\\1412235741.py\u001b[0m in \u001b[0;36m<module>\u001b[1;34m\u001b[0m\n\u001b[1;32m----> 1\u001b[1;33m \u001b[0mprint\u001b[0m\u001b[1;33m(\u001b[0m\u001b[1;36m0\u001b[0m\u001b[1;33m/\u001b[0m\u001b[1;36m0\u001b[0m\u001b[1;33m)\u001b[0m\u001b[1;33m\u001b[0m\u001b[1;33m\u001b[0m\u001b[0m\n\u001b[0m\u001b[0;32m      2\u001b[0m \u001b[0mprint\u001b[0m\u001b[1;33m(\u001b[0m\u001b[1;34m'hello'\u001b[0m\u001b[1;33m)\u001b[0m\u001b[1;33m\u001b[0m\u001b[1;33m\u001b[0m\u001b[0m\n",
      "\u001b[1;31mZeroDivisionError\u001b[0m: division by zero"
     ]
    }
   ],
   "source": [
    "print(0/0)\n",
    "print('hello')"
   ]
  },
  {
   "cell_type": "code",
   "execution_count": 9,
   "id": "039c5af6",
   "metadata": {},
   "outputs": [],
   "source": [
    "#Q3. which python statements are used to catch and handle exceptions?"
   ]
  },
  {
   "cell_type": "code",
   "execution_count": 10,
   "id": "8f6abfc8",
   "metadata": {},
   "outputs": [],
   "source": [
    "# try,except are used to catch and handle custome exception where as raise is used to throw exception"
   ]
  },
  {
   "cell_type": "code",
   "execution_count": 11,
   "id": "914d1c30",
   "metadata": {},
   "outputs": [],
   "source": [
    "# Q4. Explain with an example:\n",
    "#     a.Try and else\n",
    "#     b.finally\n",
    "#     c.raise"
   ]
  },
  {
   "cell_type": "code",
   "execution_count": 16,
   "id": "565d94e8",
   "metadata": {},
   "outputs": [
    {
     "name": "stdout",
     "output_type": "stream",
     "text": [
      "exception [Errno 2] No such file or directory: 'test1.txt'\n",
      "only except is executed\n"
     ]
    }
   ],
   "source": [
    "#Try\n",
    "try:\n",
    "    f=open('test1.txt','r')\n",
    "    f.write('write into my file')\n",
    "except Exception as e:\n",
    "    print('exception',e)\n",
    "    print('only except is executed')\n",
    "else:\n",
    "    print('this is executed if your try block is executed')\n",
    "    f.close()\n",
    "    \n",
    "    \n",
    "    \n",
    "\n",
    "    \n",
    "    "
   ]
  },
  {
   "cell_type": "code",
   "execution_count": 19,
   "id": "66e7c9de",
   "metadata": {},
   "outputs": [
    {
     "name": "stdout",
     "output_type": "stream",
     "text": [
      "this is executed when there is not exception\n"
     ]
    }
   ],
   "source": [
    "#Else\n",
    "try:\n",
    "    f=open('test1.txt','w')\n",
    "    f.write('write into my file')\n",
    "except Exception as e:\n",
    "    print('exception',e)\n",
    "    print('only except is executed')\n",
    "else:\n",
    "    print('this is executed when there is not exception')\n",
    "    f.close()\n",
    "    \n",
    "    \n",
    "    \n",
    "\n",
    "    \n",
    "    "
   ]
  },
  {
   "cell_type": "code",
   "execution_count": 22,
   "id": "9eaec629",
   "metadata": {},
   "outputs": [
    {
     "name": "stdout",
     "output_type": "stream",
     "text": [
      "finally is executed always, even though there is excueption\n"
     ]
    }
   ],
   "source": [
    "#finally\n",
    "try:\n",
    "    f=open('test1.txt','w')\n",
    "    f.write('write into my file')\n",
    "finally:\n",
    "    print('finally is executed always, even though there is excueption')\n",
    "    f.close()"
   ]
  },
  {
   "cell_type": "code",
   "execution_count": 1,
   "id": "439911d7",
   "metadata": {},
   "outputs": [],
   "source": [
    "# Q5: What are custom exceptions in Python? Why do we need custom exceptions? Can you explain with an example?\n",
    "\n"
   ]
  },
  {
   "cell_type": "code",
   "execution_count": 23,
   "id": "e05593dc",
   "metadata": {},
   "outputs": [],
   "source": [
    "# Custom exception are exception which are user defined, We need custom exception so that we can raise our own exception according \n",
    "# to our condition, for  example if we have type age <0 then it should not be excepted, so in this case we create custome not_an_age_exception"
   ]
  },
  {
   "cell_type": "code",
   "execution_count": 25,
   "id": "848f3b1e",
   "metadata": {},
   "outputs": [],
   "source": [
    "# Q6 :Create a custom exception class in Python. Use this class to handle an exception.\n",
    "\n",
    "\n",
    "\n"
   ]
  },
  {
   "cell_type": "code",
   "execution_count": 26,
   "id": "ea89f203",
   "metadata": {},
   "outputs": [],
   "source": [
    "class not_an_age_exception(Exception):\n",
    "    def __init__(self,msg):\n",
    "        self.msg=msg\n",
    "        "
   ]
  },
  {
   "cell_type": "code",
   "execution_count": 27,
   "id": "92a938e3",
   "metadata": {},
   "outputs": [],
   "source": [
    "class VoterlistEligible:\n",
    "    def __init__(self,age):\n",
    "        try:\n",
    "            if age<0:\n",
    "                raise not_an_age_exception(\"age can't be below 0 or 0\")\n",
    "            elif age>18:\n",
    "                print('eligible')\n",
    "            else:\n",
    "                print('not eligible')\n",
    "        except not_an_age_exception as e:\n",
    "            print(e)\n",
    "        print('thanks for coming')\n",
    "            \n",
    "            "
   ]
  },
  {
   "cell_type": "code",
   "execution_count": 28,
   "id": "0754553f",
   "metadata": {},
   "outputs": [
    {
     "name": "stdout",
     "output_type": "stream",
     "text": [
      "age can't be below 0 or 0\n",
      "thanks for coming\n"
     ]
    }
   ],
   "source": [
    "vl=VoterlistEligible(-3)"
   ]
  },
  {
   "cell_type": "code",
   "execution_count": null,
   "id": "ecfa127e",
   "metadata": {},
   "outputs": [],
   "source": []
  },
  {
   "cell_type": "code",
   "execution_count": null,
   "id": "6856162c",
   "metadata": {},
   "outputs": [],
   "source": []
  }
 ],
 "metadata": {
  "kernelspec": {
   "display_name": "Python 3 (ipykernel)",
   "language": "python",
   "name": "python3"
  },
  "language_info": {
   "codemirror_mode": {
    "name": "ipython",
    "version": 3
   },
   "file_extension": ".py",
   "mimetype": "text/x-python",
   "name": "python",
   "nbconvert_exporter": "python",
   "pygments_lexer": "ipython3",
   "version": "3.9.13"
  }
 },
 "nbformat": 4,
 "nbformat_minor": 5
}
