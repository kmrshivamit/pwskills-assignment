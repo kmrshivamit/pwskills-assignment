{
 "cells": [
  {
   "cell_type": "code",
   "execution_count": 1,
   "id": "e0cdbc25",
   "metadata": {
    "collapsed": true
   },
   "outputs": [],
   "source": [
    "# Q1. What is a database? Differentiate between SQL and NoSQL databases."
   ]
  },
  {
   "cell_type": "code",
   "execution_count": 3,
   "id": "e46f6b68",
   "metadata": {},
   "outputs": [],
   "source": [
    "# A database is indeed a collection of data that is stored in a permanent storage for easy access and manipulation.\n",
    "\n",
    "# SQL and NoSQL are two different types of databases that differ in terms of their data models, schema, and query language.\n",
    "\n",
    "# SQL databases are relational databases that store data in tables with predefined schemas. \n",
    "# They use SQL (Structured Query Language) to manage and manipulate data. SQL databases are typically used in applications \n",
    "# where the data is structured and the relationships between the data are clearly defined. \n",
    "# Examples of SQL databases include MySQL, Oracle, and PostgreSQL.\n",
    "\n",
    "# On the other hand, NoSQL databases are non-relational databases that store data in a flexible, schema-less manner. \n",
    "# They do not use SQL for querying data, and instead use other methods such as key-value pairs, graph databases,\n",
    "# or document-based databases. NoSQL databases are typically used in applications where the data is unstructured, dynamic, \n",
    "# and constantly changing. Examples of NoSQL databases include MongoDB, CouchDB, and Cassandra.\n",
    "\n",
    "# Therefore, to differentiate between SQL and NoSQL databases, it's important to understand their data models, \n",
    "# schemas, and query languages, as well as the specific use cases where each type of database is appropriate.\n"
   ]
  },
  {
   "cell_type": "code",
   "execution_count": 4,
   "id": "317991bf",
   "metadata": {},
   "outputs": [],
   "source": [
    "# Q2. What is DDL? Explain why CREATE, DROP, ALTER, and TRUNCATE are used with an example."
   ]
  },
  {
   "cell_type": "code",
   "execution_count": 8,
   "id": "263fc9a8",
   "metadata": {},
   "outputs": [],
   "source": [
    "# # DDL stands for data defination language.It is used to change schema\n",
    "\n",
    "# # create is used to create new table\n",
    "#ALTER TABLE employees ADD COLUMN department VARCHAR(50);\n",
    "\n",
    "# #drop is used to drop the schema\n",
    "# drop table student;\n",
    "\n",
    "#alter is used to alter the schema of a table\n",
    "# alter table employees ADD COLUMN department VARCHAR(50);\n",
    "\n",
    "#truncate \n",
    "# it is used to delete all the rows from schema\n",
    "# TRUNCATE TABLE employees;\n",
    "\n",
    "\n"
   ]
  },
  {
   "cell_type": "code",
   "execution_count": 9,
   "id": "904c4164",
   "metadata": {},
   "outputs": [],
   "source": [
    "# Q3. What is DML? Explain INSERT, UPDATE, and DELETE with an example."
   ]
  },
  {
   "cell_type": "code",
   "execution_count": 10,
   "id": "f3433d43",
   "metadata": {},
   "outputs": [],
   "source": [
    "# dml is used to change the data in table,\n",
    "# Insert\n",
    "# It is used to insert data into table\n",
    "# Insert into student (name,age,roll) values('shivam',22,222)\n",
    "# Update\n",
    "# It is used to update data in table\n",
    "# update table student set age=22 where roll=22\n",
    "# Delete\n",
    "# delete from student where roll=22"
   ]
  },
  {
   "cell_type": "code",
   "execution_count": 11,
   "id": "9ed73733",
   "metadata": {},
   "outputs": [],
   "source": [
    "# Q4. What is DQL? Explain SELECT with an example."
   ]
  },
  {
   "cell_type": "code",
   "execution_count": 12,
   "id": "ebf13561",
   "metadata": {},
   "outputs": [],
   "source": [
    "# Data Query Language is used to retrieve rows from table.\n",
    "# Select * from student where roll=22"
   ]
  },
  {
   "cell_type": "code",
   "execution_count": null,
   "id": "eef68c89",
   "metadata": {},
   "outputs": [],
   "source": [
    "# Q5. Explain Primary Key and Foreign Key."
   ]
  },
  {
   "cell_type": "code",
   "execution_count": 35,
   "id": "97d41483",
   "metadata": {},
   "outputs": [],
   "source": [
    "# # primary key is a unique identity of each row, it can't be null or duplicate\n",
    "# foreign key is the primary key of other related table, which is required for integrity purose and to create relationship"
   ]
  },
  {
   "cell_type": "code",
   "execution_count": 13,
   "id": "17360872",
   "metadata": {},
   "outputs": [],
   "source": [
    "# Q6. Write a python code to connect MySQL to python. Explain the cursor() and execute() method."
   ]
  },
  {
   "cell_type": "code",
   "execution_count": 18,
   "id": "1a898303",
   "metadata": {},
   "outputs": [],
   "source": [
    "import mysql"
   ]
  },
  {
   "cell_type": "code",
   "execution_count": 28,
   "id": "b089b8f1",
   "metadata": {},
   "outputs": [],
   "source": [
    "mydb = mysql.connector.connect(host='localhost',user='root',password='root',\n",
    "database='college',auth_plugin='mysql_native_password')      "
   ]
  },
  {
   "cell_type": "code",
   "execution_count": 29,
   "id": "133335bc",
   "metadata": {},
   "outputs": [
    {
     "data": {
      "text/plain": [
       "<mysql.connector.connection.MySQLConnection at 0x1e3569a5cd0>"
      ]
     },
     "execution_count": 29,
     "metadata": {},
     "output_type": "execute_result"
    }
   ],
   "source": [
    "mydb"
   ]
  },
  {
   "cell_type": "code",
   "execution_count": 30,
   "id": "fc1458e9",
   "metadata": {},
   "outputs": [],
   "source": [
    "cursor=mydb.cursor()"
   ]
  },
  {
   "cell_type": "code",
   "execution_count": 31,
   "id": "741c6add",
   "metadata": {},
   "outputs": [],
   "source": [
    "cursor.execute('select * from student')"
   ]
  },
  {
   "cell_type": "code",
   "execution_count": 34,
   "id": "b5b34bf7",
   "metadata": {},
   "outputs": [
    {
     "name": "stdout",
     "output_type": "stream",
     "text": [
      "(1, 'abc_0', 'def_0', 2016, 2, datetime.datetime(2022, 12, 31, 12, 12, 56), None, 1, 'kumar.shivam@gmail.com', None)\n",
      "(2, 'abc_1', 'def_1', 2016, 5, datetime.datetime(2022, 12, 31, 12, 12, 56), None, 1, 'kumar.shivam@gmail.com', None)\n",
      "(3, 'abc_2', 'def_2', 2016, 1, datetime.datetime(2022, 12, 31, 12, 12, 56), None, 1, 'kumar.shivam@gmail.com', None)\n",
      "(4, 'abc_3', 'def_3', 2016, 5, datetime.datetime(2022, 12, 31, 12, 12, 56), None, 1, 'kumar.shivam@gmail.com', None)\n",
      "(5, 'abc_4', 'def_4', 2016, 4, datetime.datetime(2022, 12, 31, 12, 12, 56), None, 1, 'kumar.shivam@gmail.com', None)\n",
      "(6, 'abc_5', 'def_5', 2016, 3, datetime.datetime(2022, 12, 31, 12, 12, 56), None, 1, 'kumar.shivam@gmail.com', None)\n",
      "(7, 'abc_6', 'def_6', 2016, 5, datetime.datetime(2022, 12, 31, 12, 12, 56), None, 1, 'kumar.shivam@gmail.com', None)\n",
      "(8, 'abc_7', 'def_7', 2016, 2, datetime.datetime(2022, 12, 31, 12, 12, 56), None, 1, 'kumar.shivam@gmail.com', None)\n",
      "(9, 'abc_8', 'def_8', 2016, 1, datetime.datetime(2022, 12, 31, 12, 12, 56), None, 1, 'kumar.shivam@gmail.com', None)\n",
      "(10, 'abc_9', 'def_9', 2016, 5, datetime.datetime(2022, 12, 31, 12, 12, 56), None, 1, 'kumar.shivam@gmail.com', None)\n",
      "(11, 'abc_19', 'def_19', 2016, 5, datetime.datetime(2022, 12, 31, 12, 31, 4), None, 1, 'kumar.shivam@gmail.com', None)\n",
      "(12, 'abc_9', 'def_9', 2016, 4, datetime.datetime(2022, 12, 31, 12, 35, 32), None, 1, 'kumar.shivam@gmail.com', None)\n"
     ]
    }
   ],
   "source": [
    "\n",
    "for i in cursor.fetchall():\n",
    "    print(i)"
   ]
  },
  {
   "cell_type": "code",
   "execution_count": null,
   "id": "0ce11209",
   "metadata": {},
   "outputs": [],
   "source": [
    "# Q7. Give the order of execution of SQL clauses in an SQL query."
   ]
  },
  {
   "cell_type": "code",
   "execution_count": null,
   "id": "2829327b",
   "metadata": {},
   "outputs": [],
   "source": [
    "# In a typical SQL query, the clauses are executed in the following order:\n",
    "\n",
    "# FROM: The FROM clause is executed first, which specifies the table(s) or view(s) from which the data will be retrieved.\n",
    "\n",
    "# WHERE: The WHERE clause is executed next, which filters the data based on the specified conditions.\n",
    "\n",
    "# GROUP BY: The GROUP BY clause is executed next, which groups the data based on one or more columns.\n",
    "\n",
    "# HAVING: The HAVING clause is executed next, which filters the grouped data based on the specified conditions.\n",
    "\n",
    "# SELECT: The SELECT clause is executed next, which selects the columns to be returned in the result set.\n",
    "\n",
    "# DISTINCT: The DISTINCT clause is executed next, which removes duplicate rows from the result set.\n",
    "\n",
    "# ORDER BY: The ORDER BY clause is executed next, which sorts the result set based on one or more columns.\n",
    "\n",
    "# LIMIT/OFFSET: The LIMIT and/or OFFSET clauses are executed last, which limits the number of rows returned and/or specifies the starting point for the result set.\n",
    "\n",
    "# It's important to note that not all clauses are required in a SQL query, and they may not necessarily be executed in the same order every time. Also, some database management systems may optimize the order of execution based on the query and the database structure, so the order of execution may vary depending on the system.\n"
   ]
  }
 ],
 "metadata": {
  "kernelspec": {
   "display_name": "Python 3 (ipykernel)",
   "language": "python",
   "name": "python3"
  },
  "language_info": {
   "codemirror_mode": {
    "name": "ipython",
    "version": 3
   },
   "file_extension": ".py",
   "mimetype": "text/x-python",
   "name": "python",
   "nbconvert_exporter": "python",
   "pygments_lexer": "ipython3",
   "version": "3.9.13"
  }
 },
 "nbformat": 4,
 "nbformat_minor": 5
}
