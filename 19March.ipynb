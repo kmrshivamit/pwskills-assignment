{
 "cells": [
  {
   "cell_type": "code",
   "execution_count": 2,
   "id": "d0400f4b",
   "metadata": {},
   "outputs": [],
   "source": [
    "# Q1. What is Min-Max scaling, and how is it used in data preprocessing? Provide an example to illustrate its\n",
    "# application."
   ]
  },
  {
   "cell_type": "code",
   "execution_count": 3,
   "id": "efa611b3",
   "metadata": {},
   "outputs": [],
   "source": [
    "# # Min-Max scaling, also known as normalization, is a common data preprocessing technique used to transform numerical \n",
    "# # features in a dataset to a specific range. It rescales the data so that it falls within a predefined interval, \n",
    "# # typically between 0 and 1. The formula used for Min-Max scaling is:\n",
    "\n",
    "# # scaled_value = (value - min_value) / (max_value - min_value)\n",
    "\n",
    "# # The purpose of Min-Max scaling is to bring all the features to a similar scale, preventing certain features from \n",
    "# dominating others due to their larger magnitudes. This technique is commonly used in machine learning algorithms that\n",
    "# utilize distance calculations, such as k-nearest neighbors (KNN) and support vector machines (SVM), where the scale of\n",
    "# the features can affect the performance of the models.\n",
    "\n"
   ]
  },
  {
   "cell_type": "code",
   "execution_count": 5,
   "id": "b2822028",
   "metadata": {},
   "outputs": [],
   "source": [
    "# Q2. What is the Unit Vector technique in feature scaling, and how does it differ from Min-Max scaling?\n",
    "# Provide an example to illustrate its application."
   ]
  },
  {
   "cell_type": "code",
   "execution_count": 7,
   "id": "33b2521d",
   "metadata": {},
   "outputs": [],
   "source": [
    "# The Unit Vector technique, also known as vector normalization, is a feature scaling method that transforms the values of a \n",
    "# feature into a unit vector. Unlike Min-Max scaling, which scales the feature within a specific range, the Unit Vector\n",
    "# technique ensures that the magnitude of the vector representing each data point is equal to 1. It preserves the direction\n",
    "# of the data points while normalizing their magnitude.\n",
    "\n",
    "# scaled_vector = vector / ||vector||\n",
    "\n",
    "\n"
   ]
  },
  {
   "cell_type": "code",
   "execution_count": 8,
   "id": "fadc0024",
   "metadata": {},
   "outputs": [],
   "source": [
    "# Q3. What is PCA (Principle Component Analysis), and how is it used in dimensionality reduction? Provide an\n",
    "# example to illustrate its application."
   ]
  },
  {
   "cell_type": "code",
   "execution_count": null,
   "id": "44fab5c1",
   "metadata": {},
   "outputs": [],
   "source": []
  }
 ],
 "metadata": {
  "kernelspec": {
   "display_name": "Python 3 (ipykernel)",
   "language": "python",
   "name": "python3"
  },
  "language_info": {
   "codemirror_mode": {
    "name": "ipython",
    "version": 3
   },
   "file_extension": ".py",
   "mimetype": "text/x-python",
   "name": "python",
   "nbconvert_exporter": "python",
   "pygments_lexer": "ipython3",
   "version": "3.9.13"
  }
 },
 "nbformat": 4,
 "nbformat_minor": 5
}
