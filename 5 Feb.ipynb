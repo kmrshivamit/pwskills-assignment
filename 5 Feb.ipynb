{
 "cells": [
  {
   "cell_type": "code",
   "execution_count": 1,
   "id": "f362fb56",
   "metadata": {},
   "outputs": [],
   "source": [
    "# Q1. Explain Class and Object with respect to Object-Oriented Programming. Give a suitable example."
   ]
  },
  {
   "cell_type": "code",
   "execution_count": 28,
   "id": "8b82385c",
   "metadata": {},
   "outputs": [],
   "source": [
    "# #class is blueprint of object with specific properties and methods, \n",
    "# It is fundamentaal concept of oops and allows for the creation of complex \n",
    "# data structures that can be reused in multiple parts of a program\n",
    "\n",
    "# Objects are instances of class,with own set of properties and behaviours."
   ]
  },
  {
   "cell_type": "code",
   "execution_count": 29,
   "id": "56c2dbac",
   "metadata": {},
   "outputs": [],
   "source": [
    "class Car:\n",
    "    def __init__(self,make,model,color):\n",
    "        self.__make=make\n",
    "        self.__model=model\n",
    "        self.__color=color\n",
    "    \n",
    "    def start_engine(self):\n",
    "        print('the engine is now running')\n",
    "    def accelerate(self):\n",
    "        print('the car is now moving faster')"
   ]
  },
  {
   "cell_type": "code",
   "execution_count": 30,
   "id": "5c7cad8e",
   "metadata": {},
   "outputs": [],
   "source": [
    "car=Car('Mahindra','Thar','Red')"
   ]
  },
  {
   "cell_type": "code",
   "execution_count": 31,
   "id": "279ed10c",
   "metadata": {},
   "outputs": [
    {
     "name": "stdout",
     "output_type": "stream",
     "text": [
      "the engine is now running\n"
     ]
    }
   ],
   "source": [
    "car.start_engine()"
   ]
  },
  {
   "cell_type": "code",
   "execution_count": 32,
   "id": "bb4a1a29",
   "metadata": {},
   "outputs": [
    {
     "name": "stdout",
     "output_type": "stream",
     "text": [
      "the car is now moving faster\n"
     ]
    }
   ],
   "source": [
    "car.accelerate()"
   ]
  },
  {
   "cell_type": "code",
   "execution_count": 33,
   "id": "051afbf3",
   "metadata": {},
   "outputs": [],
   "source": [
    "# Q2. Name the four pillars of OOPs."
   ]
  },
  {
   "cell_type": "code",
   "execution_count": 34,
   "id": "81f1a633",
   "metadata": {},
   "outputs": [],
   "source": [
    "# Four pillers of OOPs are\n",
    "# Encaptulation: It's about binding data and methods in single unit called object, and providing access rembers in propear manner.\n",
    "# Abstraction: It's about hinding immplementation details and complexity and providing access using proper method \n",
    "# Polymorphism: It's about having multiple form, for example a function can have multiple forms depending on input.\n",
    "# Inheritence: It's about inherating properties from parents."
   ]
  },
  {
   "cell_type": "code",
   "execution_count": 35,
   "id": "14b54e8d",
   "metadata": {},
   "outputs": [],
   "source": [
    "# Q3. Explain why the __init__() function is used. Give a suitable example."
   ]
  },
  {
   "cell_type": "code",
   "execution_count": 36,
   "id": "2b74da9a",
   "metadata": {},
   "outputs": [],
   "source": [
    "# init function is construction, which is called when object is created and we can set the values using init."
   ]
  },
  {
   "cell_type": "code",
   "execution_count": 37,
   "id": "b22483cc",
   "metadata": {},
   "outputs": [],
   "source": [
    "class Car:\n",
    "    def __init__(self,make,model,color):\n",
    "        print('constructor is called')\n",
    "        self.__make=make\n",
    "        self.__model=model\n",
    "        self.__color=color\n",
    "    \n",
    "    def start_engine(self):\n",
    "        print('the engine is now running')\n",
    "    def accelerate(self):\n",
    "        print('the car is now moving faster')"
   ]
  },
  {
   "cell_type": "code",
   "execution_count": 38,
   "id": "2746215f",
   "metadata": {},
   "outputs": [
    {
     "name": "stdout",
     "output_type": "stream",
     "text": [
      "constructor is called\n"
     ]
    }
   ],
   "source": [
    "car=Car('Tata','Safari','Black')"
   ]
  },
  {
   "cell_type": "code",
   "execution_count": 39,
   "id": "c40f7021",
   "metadata": {},
   "outputs": [],
   "source": [
    "# Q4. Why self is used in OOPs?"
   ]
  },
  {
   "cell_type": "code",
   "execution_count": 40,
   "id": "99939be7",
   "metadata": {},
   "outputs": [],
   "source": [
    "#  \"self\" is used in OOP to access the instance variables and methods of the current object. It helps to ensure that the \n",
    "#     correct variables and methods are being accessed and operated on, and is a key aspect of encapsulation and \n",
    "#     object-oriented design principles."
   ]
  },
  {
   "cell_type": "code",
   "execution_count": 41,
   "id": "9a0683ff",
   "metadata": {},
   "outputs": [],
   "source": [
    "# Q5. What is inheritance? Give an example for each type of inheritance."
   ]
  },
  {
   "cell_type": "code",
   "execution_count": 42,
   "id": "01e9c453",
   "metadata": {},
   "outputs": [
    {
     "ename": "SyntaxError",
     "evalue": "invalid syntax (176797801.py, line 1)",
     "output_type": "error",
     "traceback": [
      "\u001b[1;36m  File \u001b[1;32m\"C:\\Users\\kmrsh\\AppData\\Local\\Temp\\ipykernel_27744\\176797801.py\"\u001b[1;36m, line \u001b[1;32m1\u001b[0m\n\u001b[1;33m    Inheritence in OOPS is used for code resuability and to have parent child replationship between classes.\u001b[0m\n\u001b[1;37m                                ^\u001b[0m\n\u001b[1;31mSyntaxError\u001b[0m\u001b[1;31m:\u001b[0m invalid syntax\n"
     ]
    }
   ],
   "source": [
    "Inheritence in OOPS is used for code resuability and to have parent child replationship between classes.\n"
   ]
  },
  {
   "cell_type": "code",
   "execution_count": 57,
   "id": "ca1f0377",
   "metadata": {},
   "outputs": [
    {
     "name": "stdout",
     "output_type": "stream",
     "text": [
      "Four Wheeler VehicleCar,Engine TypeMotor\n"
     ]
    }
   ],
   "source": [
    "# Single Inheritence\n",
    "class Vehicle:\n",
    "    def __init__(self,engine_type):\n",
    "        self._engine_type=engine_type\n",
    "\n",
    "class Four_Wheeler(Vehicle):\n",
    "    def __init__(self,name,engine):\n",
    "        self._name=name\n",
    "        super().__init__(engine)\n",
    "        print(f'Four Wheeler Vehicle{self._name},Engine Type{self._engine_type}')\n",
    "\n",
    "  \n",
    "\n",
    "obj=Four_Wheeler('Car','Motor')\n"
   ]
  },
  {
   "cell_type": "code",
   "execution_count": 58,
   "id": "829d0f9a",
   "metadata": {},
   "outputs": [],
   "source": [
    "#multi level inheritence"
   ]
  },
  {
   "cell_type": "code",
   "execution_count": 64,
   "id": "12458f10",
   "metadata": {},
   "outputs": [
    {
     "name": "stdout",
     "output_type": "stream",
     "text": [
      "Four Wheeler Vehicle car, Engine Type Electric\n"
     ]
    }
   ],
   "source": [
    "class Vehicle:\n",
    "    def __init__(self, engine_type):\n",
    "        self._engine_type = engine_type\n",
    "\n",
    "class Four_Wheeler(Vehicle):\n",
    "    def __init__(self, name, engine):\n",
    "        self._name = name\n",
    "        super().__init__(engine)\n",
    "        print(f'Four Wheeler Vehicle {self._name}, Engine Type {self._engine_type}')\n",
    "\n",
    "class Car(Four_Wheeler):\n",
    "    def __init__(self, engine, company):\n",
    "        name = 'car'\n",
    "        super().__init__('car',engine)\n",
    "        self._company = company\n",
    "\n",
    "car = Car('Electric', 'Tata Motors')"
   ]
  },
  {
   "cell_type": "code",
   "execution_count": 66,
   "id": "ff465f14",
   "metadata": {},
   "outputs": [
    {
     "name": "stdout",
     "output_type": "stream",
     "text": [
      "This is method A\n",
      "This is method B\n",
      "This is method C\n"
     ]
    }
   ],
   "source": [
    "class A:\n",
    "    def methodA(self):\n",
    "        print(\"This is method A\")\n",
    "\n",
    "class B:\n",
    "    def methodB(self):\n",
    "        print(\"This is method B\")\n",
    "\n",
    "class C(A, B):\n",
    "    def methodC(self):\n",
    "        print(\"This is method C\")\n",
    "\n",
    "# Create an object of the C class\n",
    "obj = C()\n",
    "\n",
    "# Call methods from all three classes\n",
    "obj.methodA()\n",
    "obj.methodB()\n",
    "obj.methodC()\n"
   ]
  },
  {
   "cell_type": "code",
   "execution_count": null,
   "id": "834116fb",
   "metadata": {},
   "outputs": [],
   "source": []
  },
  {
   "cell_type": "code",
   "execution_count": null,
   "id": "624c4a19",
   "metadata": {},
   "outputs": [],
   "source": []
  }
 ],
 "metadata": {
  "kernelspec": {
   "display_name": "Python 3 (ipykernel)",
   "language": "python",
   "name": "python3"
  },
  "language_info": {
   "codemirror_mode": {
    "name": "ipython",
    "version": 3
   },
   "file_extension": ".py",
   "mimetype": "text/x-python",
   "name": "python",
   "nbconvert_exporter": "python",
   "pygments_lexer": "ipython3",
   "version": "3.9.13"
  }
 },
 "nbformat": 4,
 "nbformat_minor": 5
}
