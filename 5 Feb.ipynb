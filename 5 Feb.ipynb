{
 "cells": [
  {
   "cell_type": "code",
   "execution_count": 1,
   "id": "a5cba2a8",
   "metadata": {},
   "outputs": [],
   "source": [
    "# Q1. Explain Class and Object with respect to Object-Oriented Programming. Give a suitable example."
   ]
  },
  {
   "cell_type": "code",
   "execution_count": 28,
   "id": "ed8d0ca6",
   "metadata": {},
   "outputs": [],
   "source": [
    "# #class is blueprint of object with specific properties and methods, \n",
    "# It is fundamentaal concept of oops and allows for the creation of complex \n",
    "# data structures that can be reused in multiple parts of a program\n",
    "\n",
    "# Objects are instances of class,with own set of properties and behaviours."
   ]
  },
  {
   "cell_type": "code",
   "execution_count": 29,
   "id": "c8a08947",
   "metadata": {},
   "outputs": [],
   "source": [
    "class Car:\n",
    "    def __init__(self,make,model,color):\n",
    "        self.__make=make\n",
    "        self.__model=model\n",
    "        self.__color=color\n",
    "    \n",
    "    def start_engine(self):\n",
    "        print('the engine is now running')\n",
    "    def accelerate(self):\n",
    "        print('the car is now moving faster')"
   ]
  },
  {
   "cell_type": "code",
   "execution_count": 30,
   "id": "6e1167cb",
   "metadata": {},
   "outputs": [],
   "source": [
    "car=Car('Mahindra','Thar','Red')"
   ]
  },
  {
   "cell_type": "code",
   "execution_count": 31,
   "id": "27105f39",
   "metadata": {},
   "outputs": [
    {
     "name": "stdout",
     "output_type": "stream",
     "text": [
      "the engine is now running\n"
     ]
    }
   ],
   "source": [
    "car.start_engine()"
   ]
  },
  {
   "cell_type": "code",
   "execution_count": 32,
   "id": "085d3abb",
   "metadata": {},
   "outputs": [
    {
     "name": "stdout",
     "output_type": "stream",
     "text": [
      "the car is now moving faster\n"
     ]
    }
   ],
   "source": [
    "car.accelerate()"
   ]
  },
  {
   "cell_type": "code",
   "execution_count": 33,
   "id": "79feb94b",
   "metadata": {},
   "outputs": [],
   "source": [
    "# Q2. Name the four pillars of OOPs."
   ]
  },
  {
   "cell_type": "code",
   "execution_count": 34,
   "id": "f5550bb5",
   "metadata": {},
   "outputs": [],
   "source": [
    "# Four pillers of OOPs are\n",
    "# Encaptulation: It's about binding data and methods in single unit called object, and providing access rembers in propear manner.\n",
    "# Abstraction: It's about hinding immplementation details and complexity and providing access using proper method \n",
    "# Polymorphism: It's about having multiple form, for example a function can have multiple forms depending on input.\n",
    "# Inheritence: It's about inherating properties from parents."
   ]
  },
  {
   "cell_type": "code",
   "execution_count": 35,
   "id": "4e1f8076",
   "metadata": {},
   "outputs": [],
   "source": [
    "# Q3. Explain why the __init__() function is used. Give a suitable example."
   ]
  },
  {
   "cell_type": "code",
   "execution_count": 36,
   "id": "5f903bbc",
   "metadata": {},
   "outputs": [],
   "source": [
    "# init function is construction, which is called when object is created and we can set the values using init."
   ]
  },
  {
   "cell_type": "code",
   "execution_count": 37,
   "id": "82b4d1af",
   "metadata": {},
   "outputs": [],
   "source": [
    "class Car:\n",
    "    def __init__(self,make,model,color):\n",
    "        print('constructor is called')\n",
    "        self.__make=make\n",
    "        self.__model=model\n",
    "        self.__color=color\n",
    "    \n",
    "    def start_engine(self):\n",
    "        print('the engine is now running')\n",
    "    def accelerate(self):\n",
    "        print('the car is now moving faster')"
   ]
  },
  {
   "cell_type": "code",
   "execution_count": 38,
   "id": "9696c1b3",
   "metadata": {},
   "outputs": [
    {
     "name": "stdout",
     "output_type": "stream",
     "text": [
      "constructor is called\n"
     ]
    }
   ],
   "source": [
    "car=Car('Tata','Safari','Black')"
   ]
  },
  {
   "cell_type": "code",
   "execution_count": 39,
   "id": "ade0360b",
   "metadata": {},
   "outputs": [],
   "source": [
    "# Q4. Why self is used in OOPs?"
   ]
  },
  {
   "cell_type": "code",
   "execution_count": 40,
   "id": "40e8fd57",
   "metadata": {},
   "outputs": [],
   "source": [
    "#  \"self\" is used in OOP to access the instance variables and methods of the current object. It helps to ensure that the \n",
    "#     correct variables and methods are being accessed and operated on, and is a key aspect of encapsulation and \n",
    "#     object-oriented design principles."
   ]
  },
  {
   "cell_type": "code",
   "execution_count": 41,
   "id": "7c770ccd",
   "metadata": {},
   "outputs": [],
   "source": [
    "# Q5. What is inheritance? Give an example for each type of inheritance."
   ]
  },
  {
   "cell_type": "code",
   "execution_count": 67,
   "id": "1bd93302",
   "metadata": {},
   "outputs": [],
   "source": [
    "# Inheritence in OOPS is used for code resuability and to have parent child replationship between classes.\n"
   ]
  },
  {
   "cell_type": "code",
   "execution_count": 57,
   "id": "af2f9ebc",
   "metadata": {},
   "outputs": [
    {
     "name": "stdout",
     "output_type": "stream",
     "text": [
      "Four Wheeler VehicleCar,Engine TypeMotor\n"
     ]
    }
   ],
   "source": [
    "# Single Inheritence\n",
    "class Vehicle:\n",
    "    def __init__(self,engine_type):\n",
    "        self._engine_type=engine_type\n",
    "\n",
    "class Four_Wheeler(Vehicle):\n",
    "    def __init__(self,name,engine):\n",
    "        self._name=name\n",
    "        super().__init__(engine)\n",
    "        print(f'Four Wheeler Vehicle{self._name},Engine Type{self._engine_type}')\n",
    "\n",
    "  \n",
    "\n",
    "obj=Four_Wheeler('Car','Motor')\n"
   ]
  },
  {
   "cell_type": "code",
   "execution_count": 58,
   "id": "b4314c69",
   "metadata": {},
   "outputs": [],
   "source": [
    "#multi level inheritence"
   ]
  },
  {
   "cell_type": "code",
   "execution_count": 64,
   "id": "66681f08",
   "metadata": {},
   "outputs": [
    {
     "name": "stdout",
     "output_type": "stream",
     "text": [
      "Four Wheeler Vehicle car, Engine Type Electric\n"
     ]
    }
   ],
   "source": [
    "class Vehicle:\n",
    "    def __init__(self, engine_type):\n",
    "        self._engine_type = engine_type\n",
    "\n",
    "class Four_Wheeler(Vehicle):\n",
    "    def __init__(self, name, engine):\n",
    "        self._name = name\n",
    "        super().__init__(engine)\n",
    "        print(f'Four Wheeler Vehicle {self._name}, Engine Type {self._engine_type}')\n",
    "\n",
    "class Car(Four_Wheeler):\n",
    "    def __init__(self, engine, company):\n",
    "        name = 'car'\n",
    "        super().__init__('car',engine)\n",
    "        self._company = company\n",
    "\n",
    "car = Car('Electric', 'Tata Motors')"
   ]
  },
  {
   "cell_type": "code",
   "execution_count": 66,
   "id": "b3a7ddec",
   "metadata": {},
   "outputs": [
    {
     "name": "stdout",
     "output_type": "stream",
     "text": [
      "This is method A\n",
      "This is method B\n",
      "This is method C\n"
     ]
    }
   ],
   "source": [
    "class A:\n",
    "    def methodA(self):\n",
    "        print(\"This is method A\")\n",
    "\n",
    "class B:\n",
    "    def methodB(self):\n",
    "        print(\"This is method B\")\n",
    "\n",
    "class C(A, B):\n",
    "    def methodC(self):\n",
    "        print(\"This is method C\")\n",
    "\n",
    "# Create an object of the C class\n",
    "obj = C()\n",
    "\n",
    "# Call methods from all three classes\n",
    "obj.methodA()\n",
    "obj.methodB()\n",
    "obj.methodC()\n"
   ]
  },
  {
   "cell_type": "code",
   "execution_count": null,
   "id": "3177e7df",
   "metadata": {},
   "outputs": [],
   "source": []
  },
  {
   "cell_type": "code",
   "execution_count": null,
   "id": "5fcde2cb",
   "metadata": {},
   "outputs": [],
   "source": []
  }
 ],
 "metadata": {
  "kernelspec": {
   "display_name": "Python 3 (ipykernel)",
   "language": "python",
   "name": "python3"
  },
  "language_info": {
   "codemirror_mode": {
    "name": "ipython",
    "version": 3
   },
   "file_extension": ".py",
   "mimetype": "text/x-python",
   "name": "python",
   "nbconvert_exporter": "python",
   "pygments_lexer": "ipython3",
   "version": "3.9.13"
  }
 },
 "nbformat": 4,
 "nbformat_minor": 5
}
