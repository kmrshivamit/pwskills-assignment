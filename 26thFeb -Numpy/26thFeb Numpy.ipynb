{
 "cells": [
  {
   "cell_type": "code",
   "execution_count": 15,
   "id": "cd1f429d",
   "metadata": {},
   "outputs": [],
   "source": [
    "# Consider the below code to answer further questions:\n",
    "import numpy as np\n",
    "list_ = [ '1' , '2' , '3' , '4' , '5']\n",
    "array_list = np.array(object = list_)"
   ]
  },
  {
   "cell_type": "code",
   "execution_count": 16,
   "id": "844c9ac1",
   "metadata": {},
   "outputs": [
    {
     "data": {
      "text/plain": [
       "array(['1', '2', '3', '4', '5'], dtype='<U1')"
      ]
     },
     "execution_count": 16,
     "metadata": {},
     "output_type": "execute_result"
    }
   ],
   "source": [
    "array_list"
   ]
  },
  {
   "cell_type": "code",
   "execution_count": 17,
   "id": "09748d62",
   "metadata": {},
   "outputs": [],
   "source": [
    "# Q1. Is there any difference in the data type of variables list_ and array_list? If there is then write a code\n",
    "# to print the data types of both the variables."
   ]
  },
  {
   "cell_type": "code",
   "execution_count": 20,
   "id": "cecb16c8",
   "metadata": {},
   "outputs": [],
   "source": [
    "#there is a difference as first one is a list and other one is ndarray"
   ]
  },
  {
   "cell_type": "code",
   "execution_count": 21,
   "id": "0bde6363",
   "metadata": {},
   "outputs": [
    {
     "name": "stdout",
     "output_type": "stream",
     "text": [
      "<class 'list'>\n"
     ]
    }
   ],
   "source": [
    "print(type(list_))"
   ]
  },
  {
   "cell_type": "code",
   "execution_count": 22,
   "id": "3b36e084",
   "metadata": {},
   "outputs": [
    {
     "name": "stdout",
     "output_type": "stream",
     "text": [
      "<class 'numpy.ndarray'>\n"
     ]
    }
   ],
   "source": [
    "print(type(array_list))"
   ]
  },
  {
   "cell_type": "code",
   "execution_count": 23,
   "id": "ebd8922b",
   "metadata": {},
   "outputs": [],
   "source": [
    "# Q2. Write a code to print the data type of each and every element of both the variables list_ and\n",
    "# arra_list."
   ]
  },
  {
   "cell_type": "code",
   "execution_count": 25,
   "id": "f0f422b2",
   "metadata": {},
   "outputs": [
    {
     "name": "stdout",
     "output_type": "stream",
     "text": [
      "1 <class 'str'>\n",
      "2 <class 'str'>\n",
      "3 <class 'str'>\n",
      "4 <class 'str'>\n",
      "5 <class 'str'>\n"
     ]
    }
   ],
   "source": [
    "for i in list_:\n",
    "    print(i,type(i))"
   ]
  },
  {
   "cell_type": "code",
   "execution_count": 24,
   "id": "96907ec9",
   "metadata": {},
   "outputs": [
    {
     "name": "stdout",
     "output_type": "stream",
     "text": [
      "1 <class 'numpy.str_'>\n",
      "2 <class 'numpy.str_'>\n",
      "3 <class 'numpy.str_'>\n",
      "4 <class 'numpy.str_'>\n",
      "5 <class 'numpy.str_'>\n"
     ]
    }
   ],
   "source": [
    "for i in array_list:\n",
    "    print(i,type(i))"
   ]
  },
  {
   "cell_type": "code",
   "execution_count": 31,
   "id": "26ef6770",
   "metadata": {},
   "outputs": [],
   "source": [
    "# Q3. Considering the following changes in the variable, array_list:\n",
    "array_list = np.array(object = list_, dtype = int)\n",
    "# Will there be any difference in the data type of the elements present in both the variables, list_ and\n",
    "# arra_list? If so then print the data types of each and every element present in both the variables, list_\n",
    "# and arra_list.\n"
   ]
  },
  {
   "cell_type": "code",
   "execution_count": 32,
   "id": "bfdd982f",
   "metadata": {},
   "outputs": [],
   "source": [
    "#yes the array_list elements will become of int data type"
   ]
  },
  {
   "cell_type": "code",
   "execution_count": 33,
   "id": "8d6f4749",
   "metadata": {},
   "outputs": [
    {
     "name": "stdout",
     "output_type": "stream",
     "text": [
      "1 <class 'str'>\n",
      "2 <class 'str'>\n",
      "3 <class 'str'>\n",
      "4 <class 'str'>\n",
      "5 <class 'str'>\n"
     ]
    }
   ],
   "source": [
    "for i in list_:\n",
    "    print(i,type(i))"
   ]
  },
  {
   "cell_type": "code",
   "execution_count": 34,
   "id": "d64b7688",
   "metadata": {},
   "outputs": [
    {
     "name": "stdout",
     "output_type": "stream",
     "text": [
      "1 <class 'numpy.int32'>\n",
      "2 <class 'numpy.int32'>\n",
      "3 <class 'numpy.int32'>\n",
      "4 <class 'numpy.int32'>\n",
      "5 <class 'numpy.int32'>\n"
     ]
    }
   ],
   "source": [
    "for i in array_list:\n",
    "    print(i,type(i))"
   ]
  },
  {
   "cell_type": "code",
   "execution_count": 35,
   "id": "b8ea55fb",
   "metadata": {},
   "outputs": [],
   "source": [
    "# Consider the below code to answer further questions:\n",
    "import numpy as np\n",
    "num_list = [ [ 1 , 2 , 3 ] , [ 4 , 5 , 6 ] ]\n",
    "num_array = np.array(object = num_list)"
   ]
  },
  {
   "cell_type": "code",
   "execution_count": 36,
   "id": "97fb1007",
   "metadata": {},
   "outputs": [],
   "source": [
    "# Q4. Write a code to find the following characteristics of variable, num_array:\n",
    "# (i) shape\n",
    "# (ii) size"
   ]
  },
  {
   "cell_type": "code",
   "execution_count": 37,
   "id": "ee0f859c",
   "metadata": {},
   "outputs": [
    {
     "data": {
      "text/plain": [
       "(2, 3)"
      ]
     },
     "execution_count": 37,
     "metadata": {},
     "output_type": "execute_result"
    }
   ],
   "source": [
    "num_array.shape"
   ]
  },
  {
   "cell_type": "code",
   "execution_count": 38,
   "id": "f8d88dcb",
   "metadata": {},
   "outputs": [
    {
     "data": {
      "text/plain": [
       "6"
      ]
     },
     "execution_count": 38,
     "metadata": {},
     "output_type": "execute_result"
    }
   ],
   "source": [
    "num_array.size"
   ]
  },
  {
   "cell_type": "code",
   "execution_count": 39,
   "id": "d7c5302a",
   "metadata": {},
   "outputs": [],
   "source": [
    "# Q5. Write a code to create numpy array of 3*3 matrix containing zeros only, using a numpy array\n",
    "# creation function.\n",
    "# [Hint: The size of the array will be 9 and the shape will be (3,3).]"
   ]
  },
  {
   "cell_type": "code",
   "execution_count": 41,
   "id": "63e70be6",
   "metadata": {},
   "outputs": [
    {
     "data": {
      "text/plain": [
       "array([[0., 0., 0.],\n",
       "       [0., 0., 0.],\n",
       "       [0., 0., 0.]])"
      ]
     },
     "execution_count": 41,
     "metadata": {},
     "output_type": "execute_result"
    }
   ],
   "source": [
    "np.zeros((3,3))"
   ]
  },
  {
   "cell_type": "code",
   "execution_count": 42,
   "id": "08c7b6f7",
   "metadata": {},
   "outputs": [],
   "source": [
    "# Q6. Create an identity matrix of shape (5,5) using numpy functions?\n",
    "# [Hint: An identity matrix is a matrix containing 1 diagonally and other elements will be 0.]"
   ]
  },
  {
   "cell_type": "code",
   "execution_count": 46,
   "id": "806543c3",
   "metadata": {},
   "outputs": [
    {
     "data": {
      "text/plain": [
       "array([[1., 0., 0., 0., 0.],\n",
       "       [0., 1., 0., 0., 0.],\n",
       "       [0., 0., 1., 0., 0.],\n",
       "       [0., 0., 0., 1., 0.],\n",
       "       [0., 0., 0., 0., 1.]])"
      ]
     },
     "execution_count": 46,
     "metadata": {},
     "output_type": "execute_result"
    }
   ],
   "source": [
    "np.eye(5)"
   ]
  },
  {
   "cell_type": "code",
   "execution_count": null,
   "id": "c5277db7",
   "metadata": {},
   "outputs": [],
   "source": []
  }
 ],
 "metadata": {
  "kernelspec": {
   "display_name": "Python 3 (ipykernel)",
   "language": "python",
   "name": "python3"
  },
  "language_info": {
   "codemirror_mode": {
    "name": "ipython",
    "version": 3
   },
   "file_extension": ".py",
   "mimetype": "text/x-python",
   "name": "python",
   "nbconvert_exporter": "python",
   "pygments_lexer": "ipython3",
   "version": "3.9.13"
  }
 },
 "nbformat": 4,
 "nbformat_minor": 5
}
