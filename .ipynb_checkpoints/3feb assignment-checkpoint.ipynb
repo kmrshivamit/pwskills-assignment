{
 "cells": [
  {
   "cell_type": "code",
   "execution_count": 1,
   "id": "5f5f3f15",
   "metadata": {},
   "outputs": [],
   "source": [
    "# Q1. Which keyword is used to create a function? Create a function to return a list of odd numbers in the\n",
    "# range of 1 to 25."
   ]
  },
  {
   "cell_type": "code",
   "execution_count": 5,
   "id": "3be79b30",
   "metadata": {},
   "outputs": [],
   "source": [
    "def odd():\n",
    "    return list(range(0,25,2))"
   ]
  },
  {
   "cell_type": "code",
   "execution_count": 8,
   "id": "bb79590e",
   "metadata": {},
   "outputs": [
    {
     "name": "stdout",
     "output_type": "stream",
     "text": [
      "[0, 2, 4, 6, 8, 10, 12, 14, 16, 18, 20, 22, 24]\n"
     ]
    }
   ],
   "source": [
    "print(odd())"
   ]
  },
  {
   "cell_type": "code",
   "execution_count": 9,
   "id": "3242152b",
   "metadata": {},
   "outputs": [],
   "source": [
    "# Q2. Why *args and **kwargs is used in some functions? Create a function each for *args and **kwargs\n",
    "# to demonstrate their use."
   ]
  },
  {
   "cell_type": "code",
   "execution_count": 10,
   "id": "98004ce7",
   "metadata": {},
   "outputs": [
    {
     "name": "stdout",
     "output_type": "stream",
     "text": [
      "19.0\n",
      "Key name Value Shivam\n",
      "Key company Value LTI\n",
      "None\n"
     ]
    }
   ],
   "source": [
    "#args in python is used to keep the function arguments as tuple\n",
    "#kwargs in python is used to keep the function arguments as dictionary which is key value pairs.\n",
    "\n",
    "def average(*args):\n",
    "    return sum(args)/len(args)\n",
    "\n",
    "def print_key_value(**kargs):\n",
    "    for k,v in kargs.items():\n",
    "        print('Key '+k+' Value '+v)\n",
    "        \n",
    "print(average(1,2,33,4,55))\n",
    "print(print_key_value(name='Shivam',company='LTI'))"
   ]
  },
  {
   "cell_type": "code",
   "execution_count": 10,
   "id": "858aa539",
   "metadata": {},
   "outputs": [],
   "source": [
    "# Q3. What is an iterator in python? Name the method used to initialise the iterator object and the method\n",
    "# used for iteration. Use these methods to print the first five elements of the given list [2, 4, 6, 8, 10, 12, 14,\n",
    "# 16, 18, 20]."
   ]
  },
  {
   "cell_type": "code",
   "execution_count": 12,
   "id": "0a1ef247",
   "metadata": {},
   "outputs": [
    {
     "name": "stdout",
     "output_type": "stream",
     "text": [
      "2\n",
      "4\n",
      "6\n",
      "8\n",
      "10\n"
     ]
    }
   ],
   "source": [
    "#Iterators are methods used to iterate though the collections such as list, set,etc.\n",
    "#iter() method is used to initialise the iterator and next() is used to iterate.\n",
    "\n",
    "\n",
    "a=[2, 4, 6, 8, 10, 12, 14, 16, 18, 20]\n",
    "i=iter(a)\n",
    "count=1\n",
    "while count<=5:\n",
    "    try:\n",
    "        num=next(i)\n",
    "        print(num)\n",
    "        count =count+1\n",
    "    except:\n",
    "        break\n",
    "        \n",
    "\n",
    "    "
   ]
  },
  {
   "cell_type": "code",
   "execution_count": 13,
   "id": "345af266",
   "metadata": {},
   "outputs": [],
   "source": [
    "# Q7. Write a List Comprehension to iterate through the given string: ‘pwskills’.\n",
    "# Expected output: ['p', 'w', 's', 'k', 'i', 'l', 'l', 's']"
   ]
  },
  {
   "cell_type": "code",
   "execution_count": 14,
   "id": "f1af59c5",
   "metadata": {},
   "outputs": [
    {
     "name": "stdout",
     "output_type": "stream",
     "text": [
      "['p', 'w', 's', 'k', 'i', 'l', 'l', 's']\n"
     ]
    }
   ],
   "source": [
    "print([i for i in 'pwskills'])"
   ]
  },
  {
   "cell_type": "code",
   "execution_count": 15,
   "id": "566c51fc",
   "metadata": {},
   "outputs": [],
   "source": [
    "# Q9. Write a code to print odd numbers from 1 to 100 using list comprehension."
   ]
  },
  {
   "cell_type": "code",
   "execution_count": 16,
   "id": "0964b816",
   "metadata": {},
   "outputs": [
    {
     "name": "stdout",
     "output_type": "stream",
     "text": [
      "[1, 3, 5, 7, 9, 11, 13, 15, 17, 19, 21, 23, 25, 27, 29, 31, 33, 35, 37, 39, 41, 43, 45, 47, 49, 51, 53, 55, 57, 59, 61, 63, 65, 67, 69, 71, 73, 75, 77, 79, 81, 83, 85, 87, 89, 91, 93, 95, 97, 99]\n"
     ]
    }
   ],
   "source": [
    "print([i for i in range(1,100,2)])"
   ]
  },
  {
   "cell_type": "code",
   "execution_count": null,
   "id": "fa0c8135",
   "metadata": {},
   "outputs": [],
   "source": []
  }
 ],
 "metadata": {
  "kernelspec": {
   "display_name": "Python 3 (ipykernel)",
   "language": "python",
   "name": "python3"
  },
  "language_info": {
   "codemirror_mode": {
    "name": "ipython",
    "version": 3
   },
   "file_extension": ".py",
   "mimetype": "text/x-python",
   "name": "python",
   "nbconvert_exporter": "python",
   "pygments_lexer": "ipython3",
   "version": "3.9.13"
  }
 },
 "nbformat": 4,
 "nbformat_minor": 5
}
