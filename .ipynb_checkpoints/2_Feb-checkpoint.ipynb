{
 "cells": [
  {
   "cell_type": "code",
   "execution_count": 24,
   "id": "1fe4a2a2",
   "metadata": {},
   "outputs": [],
   "source": [
    "# Q1. Explain with an example each when to use a for loop and a while loop."
   ]
  },
  {
   "cell_type": "code",
   "execution_count": 28,
   "id": "4d5ce122",
   "metadata": {},
   "outputs": [
    {
     "name": "stdout",
     "output_type": "stream",
     "text": [
      "1 2 3 4 5 6 7 8 9 \n",
      "10 9 8 7 6 5 4 3 2 1 "
     ]
    }
   ],
   "source": [
    "# for loop is used when we have to iterate over for a specific list of values, the values are can be in the form of collection.\n",
    "# while loop is used to iterate over the loop based on some condition\n",
    "\n",
    "for i in range(1,10):\n",
    "    print(i,end=' ')\n",
    "print( )\n",
    "i=10\n",
    "while i>0:\n",
    "    print(i,end=' ')\n",
    "    i-=1"
   ]
  },
  {
   "cell_type": "code",
   "execution_count": 29,
   "id": "e53d03be",
   "metadata": {},
   "outputs": [],
   "source": [
    "# Q2. Write a python program to print the sum and product of the first 10 natural numbers using for\n",
    "# and while loop."
   ]
  },
  {
   "cell_type": "code",
   "execution_count": 40,
   "id": "aebd3c9a",
   "metadata": {},
   "outputs": [
    {
     "name": "stdout",
     "output_type": "stream",
     "text": [
      "sum= 55\n",
      "product 3628800\n"
     ]
    }
   ],
   "source": [
    "summ=0\n",
    "product=1\n",
    "i=1\n",
    "while(i<=10):\n",
    "    summ+=i\n",
    "    product*=i\n",
    "    i+=1\n",
    "print('sum=',summ)\n",
    "print('product',product)\n"
   ]
  },
  {
   "cell_type": "code",
   "execution_count": 41,
   "id": "39ea98cb",
   "metadata": {},
   "outputs": [],
   "source": [
    "# # Q3. Create a python program to compute the electricity bill for a household.\n",
    "\n",
    "# The per-unit charges in rupees are as follows: For the first 100 units, the user will be charged Rs. 4.5 per\n",
    "# unit, for the next 100 units, the user will be charged Rs. 6 per unit, and for the next 100 units, the user will\n",
    "# be charged Rs. 10 per unit, After 300 units and above the user will be charged Rs. 20 per unit.\n",
    "# You are required to take the units of electricity consumed in a month from the user as input."
   ]
  },
  {
   "cell_type": "code",
   "execution_count": 44,
   "id": "030f0671",
   "metadata": {},
   "outputs": [
    {
     "name": "stdout",
     "output_type": "stream",
     "text": [
      "number of units consumed100\n",
      "450.0\n"
     ]
    }
   ],
   "source": [
    "units=int(input('number of units consumed'))\n",
    "bill=0\n",
    "if units<=100:\n",
    "    bill=units*4.5\n",
    "elif units<=200:\n",
    "    bill=100*4.5+(200-units)*6\n",
    "elif units<300:\n",
    "    bill=100*4.5+100*6+(300-units)*10\n",
    "else:\n",
    "    bill=100*4.5+100*6+(300)*10+(units-300)\n",
    "print(bill)\n"
   ]
  },
  {
   "cell_type": "code",
   "execution_count": null,
   "id": "fe0b9e9b",
   "metadata": {},
   "outputs": [],
   "source": []
  }
 ],
 "metadata": {},
 "nbformat": 4,
 "nbformat_minor": 5
}
