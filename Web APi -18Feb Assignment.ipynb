{
 "cells": [
  {
   "cell_type": "code",
   "execution_count": 1,
   "id": "33fcc28c",
   "metadata": {},
   "outputs": [],
   "source": [
    "# Q1. What is an API? Give an example, where an API is used in real life."
   ]
  },
  {
   "cell_type": "code",
   "execution_count": 1,
   "id": "71ea655c",
   "metadata": {},
   "outputs": [],
   "source": [
    "# API stands for Application Programming Interface. Example of API are google.com,\n",
    "# APi is used for request and response to web server.\n"
   ]
  },
  {
   "cell_type": "code",
   "execution_count": 2,
   "id": "4100db8f",
   "metadata": {},
   "outputs": [],
   "source": [
    "# Q2. Give advantages and disadvantages of using API."
   ]
  },
  {
   "cell_type": "code",
   "execution_count": 6,
   "id": "f41ae2cc",
   "metadata": {},
   "outputs": [],
   "source": [
    "# Advantage of api are:\n",
    "# 1. Scalable\n",
    "# 2. User friendly\n",
    "# 3.Code Reuasibility\n",
    "# 4. Easy to use"
   ]
  },
  {
   "cell_type": "code",
   "execution_count": 7,
   "id": "098cfe9b",
   "metadata": {},
   "outputs": [],
   "source": [
    "# Disadvantage of APi are:\n",
    "# 1. Security Risk\n",
    "# 2. If input output changes then need to correct on multiple places.\n"
   ]
  },
  {
   "cell_type": "code",
   "execution_count": 8,
   "id": "2de78a3e",
   "metadata": {},
   "outputs": [],
   "source": [
    "# Q3. What is a Web API? Differentiate between API and Web API."
   ]
  },
  {
   "cell_type": "code",
   "execution_count": null,
   "id": "1c8b6bc3",
   "metadata": {},
   "outputs": [],
   "source": [
    "# API stands for appliation programming interface it is used for communicating between web server and client\n",
    "# ,web api uses http protocal."
   ]
  },
  {
   "cell_type": "code",
   "execution_count": 9,
   "id": "2462f4cb",
   "metadata": {},
   "outputs": [],
   "source": [
    "# Q4. Explain REST and SOAP Architecture. Mention shortcomings of SOAP."
   ]
  },
  {
   "cell_type": "code",
   "execution_count": null,
   "id": "18b8c326",
   "metadata": {},
   "outputs": [],
   "source": [
    "# REST is light weight , its scaleble and requires less bandwidth, \n",
    "# SOAP is more secure then rest, but requires more bandwidth its JSON based."
   ]
  },
  {
   "cell_type": "code",
   "execution_count": 10,
   "id": "34cb4f38",
   "metadata": {},
   "outputs": [],
   "source": [
    "# Q5. Differentiate between REST and SOAP."
   ]
  },
  {
   "cell_type": "code",
   "execution_count": null,
   "id": "b9c63ced",
   "metadata": {},
   "outputs": [],
   "source": [
    "# SOAP is xml based but rest is Json based , soap is more secure but rest is less secure, rest is stateless, soap is statefull"
   ]
  }
 ],
 "metadata": {
  "kernelspec": {
   "display_name": "Python 3 (ipykernel)",
   "language": "python",
   "name": "python3"
  },
  "language_info": {
   "codemirror_mode": {
    "name": "ipython",
    "version": 3
   },
   "file_extension": ".py",
   "mimetype": "text/x-python",
   "name": "python",
   "nbconvert_exporter": "python",
   "pygments_lexer": "ipython3",
   "version": "3.9.13"
  }
 },
 "nbformat": 4,
 "nbformat_minor": 5
}
