{
 "cells": [
  {
   "cell_type": "code",
   "execution_count": 1,
   "id": "1fe4a2a2",
   "metadata": {},
   "outputs": [],
   "source": [
    "# Q1. Explain with an example each when to use a for loop and a while loop."
   ]
  },
  {
   "cell_type": "code",
   "execution_count": 2,
   "id": "4d5ce122",
   "metadata": {},
   "outputs": [
    {
     "name": "stdout",
     "output_type": "stream",
     "text": [
      "1 2 3 4 5 6 7 8 9 \n",
      "10 9 8 7 6 5 4 3 2 1 "
     ]
    }
   ],
   "source": [
    "# for loop is used when we have to iterate over for a specific list of values, the values are can be in the form of collection.\n",
    "# while loop is used to iterate over the loop based on some condition\n",
    "\n",
    "for i in range(1,10):\n",
    "    print(i,end=' ')\n",
    "print( )\n",
    "i=10\n",
    "while i>0:\n",
    "    print(i,end=' ')\n",
    "    i-=1"
   ]
  },
  {
   "cell_type": "code",
   "execution_count": 3,
   "id": "e53d03be",
   "metadata": {},
   "outputs": [],
   "source": [
    "# Q2. Write a python program to print the sum and product of the first 10 natural numbers using for\n",
    "# and while loop."
   ]
  },
  {
   "cell_type": "code",
   "execution_count": 4,
   "id": "aebd3c9a",
   "metadata": {},
   "outputs": [
    {
     "name": "stdout",
     "output_type": "stream",
     "text": [
      "sum= 55\n",
      "product 3628800\n"
     ]
    }
   ],
   "source": [
    "summ=0\n",
    "product=1\n",
    "i=1\n",
    "while(i<=10):\n",
    "    summ+=i\n",
    "    product*=i\n",
    "    i+=1\n",
    "print('sum=',summ)\n",
    "print('product',product)\n"
   ]
  },
  {
   "cell_type": "code",
   "execution_count": 5,
   "id": "39ea98cb",
   "metadata": {},
   "outputs": [],
   "source": [
    "# # Q3. Create a python program to compute the electricity bill for a household.\n",
    "\n",
    "# The per-unit charges in rupees are as follows: For the first 100 units, the user will be charged Rs. 4.5 per\n",
    "# unit, for the next 100 units, the user will be charged Rs. 6 per unit, and for the next 100 units, the user will\n",
    "# be charged Rs. 10 per unit, After 300 units and above the user will be charged Rs. 20 per unit.\n",
    "# You are required to take the units of electricity consumed in a month from the user as input."
   ]
  },
  {
   "cell_type": "code",
   "execution_count": 6,
   "id": "030f0671",
   "metadata": {},
   "outputs": [
    {
     "name": "stdout",
     "output_type": "stream",
     "text": [
      "number of units consumed33\n",
      "148.5\n"
     ]
    }
   ],
   "source": [
    "units=int(input('number of units consumed'))\n",
    "bill=0\n",
    "if units<=100:\n",
    "    bill=units*4.5\n",
    "elif units<=200:\n",
    "    bill=100*4.5+(200-units)*6\n",
    "elif units<300:\n",
    "    bill=100*4.5+100*6+(300-units)*10\n",
    "else:\n",
    "    bill=100*4.5+100*6+(300)*10+(units-300)\n",
    "print(bill)\n"
   ]
  },
  {
   "cell_type": "code",
   "execution_count": 7,
   "id": "fe0b9e9b",
   "metadata": {},
   "outputs": [],
   "source": [
    "# Q4. Create a list of numbers from 1 to 100. Use for loop and while loop to calculate the cube of each\n",
    "# number and if the cube of that number is divisible by 4 or 5 then append that number in a list and print\n",
    "# that list."
   ]
  },
  {
   "cell_type": "code",
   "execution_count": 8,
   "id": "6876f2c6",
   "metadata": {},
   "outputs": [
    {
     "name": "stdout",
     "output_type": "stream",
     "text": [
      "[5, 10, 15, 20, 25, 30, 35, 40, 45, 50, 55, 60, 65, 70, 75, 80, 85, 90, 95, 100]\n"
     ]
    }
   ],
   "source": [
    "\n",
    "l=list(range(1,101))\n",
    "ans=[]\n",
    "for i in (l):\n",
    "    if((i**3)%5==0):\n",
    "        ans.append(i)\n",
    "print(ans)"
   ]
  },
  {
   "cell_type": "code",
   "execution_count": 10,
   "id": "84ce7a68",
   "metadata": {},
   "outputs": [
    {
     "name": "stdout",
     "output_type": "stream",
     "text": [
      "[5, 10, 15, 20, 25, 30, 35, 40, 45, 50, 55, 60, 65, 70, 75, 80, 85, 90, 95, 100]\n"
     ]
    }
   ],
   "source": [
    "\n",
    "ans=[]\n",
    "\n",
    "i=1\n",
    "while(i<=100):\n",
    "    if((i**3)%5==0):\n",
    "        ans.append(i)\n",
    "    i+=1\n",
    "print(ans)"
   ]
  },
  {
   "cell_type": "code",
   "execution_count": 11,
   "id": "d4ffc68f",
   "metadata": {},
   "outputs": [],
   "source": [
    "# Q5. Write a program to filter count vowels in the below-given string.\n",
    "# string = \"I want to become a data scientist\""
   ]
  },
  {
   "cell_type": "code",
   "execution_count": 15,
   "id": "97945f5c",
   "metadata": {},
   "outputs": [
    {
     "name": "stdout",
     "output_type": "stream",
     "text": [
      "11\n"
     ]
    }
   ],
   "source": [
    "string = \"I want to become a data scientist\"\n",
    "count=0\n",
    "for i in string:\n",
    "    if i in ('a','e','i','o','u'):\n",
    "        count+=1\n",
    "print(count)"
   ]
  },
  {
   "cell_type": "code",
   "execution_count": null,
   "id": "a6f06bab",
   "metadata": {},
   "outputs": [],
   "source": []
  },
  {
   "cell_type": "code",
   "execution_count": null,
   "id": "d64bb2bd",
   "metadata": {},
   "outputs": [],
   "source": []
  }
 ],
 "metadata": {
  "kernelspec": {
   "display_name": "Python 3 (ipykernel)",
   "language": "python",
   "name": "python3"
  },
  "language_info": {
   "codemirror_mode": {
    "name": "ipython",
    "version": 3
   },
   "file_extension": ".py",
   "mimetype": "text/x-python",
   "name": "python",
   "nbconvert_exporter": "python",
   "pygments_lexer": "ipython3",
   "version": "3.9.13"
  }
 },
 "nbformat": 4,
 "nbformat_minor": 5
}
