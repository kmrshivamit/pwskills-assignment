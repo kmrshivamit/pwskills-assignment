{
 "cells": [
  {
   "cell_type": "code",
   "execution_count": 1,
   "id": "16f83b01",
   "metadata": {},
   "outputs": [],
   "source": [
    "# Q1, Create a vehicle class with an init method having instance variables as name_of_vehicle, max_speed\n",
    "# and average_of_vehicle."
   ]
  },
  {
   "cell_type": "code",
   "execution_count": 5,
   "id": "2d245569",
   "metadata": {},
   "outputs": [],
   "source": [
    "class Vehicle:\n",
    "    def  __init__(self,name_of_vehicle,max_speed,average_of_vehicle):\n",
    "            self.name_of_vehicle=name_of_vehicle\n",
    "            self.max_speed=max_speed\n",
    "            self.average_of_vehicle=average_of_vehicle\n",
    "        "
   ]
  },
  {
   "cell_type": "code",
   "execution_count": null,
   "id": "66bc3f0d",
   "metadata": {},
   "outputs": [],
   "source": [
    "# Q2. Create a child class car from the vehicle class created in Que 1, which will inherit the vehicle class.\n",
    "# Create a method named seating_capacity which takes capacity as an argument and returns the name of\n",
    "# the vehicle and its seating capacity."
   ]
  },
  {
   "cell_type": "code",
   "execution_count": 8,
   "id": "ee23761a",
   "metadata": {},
   "outputs": [],
   "source": [
    "class Car(Vehicle):\n",
    "    def seating_capacity(Q3. What is multiple inheritance? Write a python code to demonstrate multiple inheritance.self,capacity):\n",
    "        self.capacity=capacity\n",
    "        return self.name_of_vehicle,self.capacity"
   ]
  },
  {
   "cell_type": "code",
   "execution_count": null,
   "id": "f573db23",
   "metadata": {},
   "outputs": [],
   "source": [
    "# Q3. What is multiple inheritance? Write a python code to demonstrate multiple inheritance."
   ]
  },
  {
   "cell_type": "code",
   "execution_count": 20,
   "id": "5669a859",
   "metadata": {},
   "outputs": [],
   "source": [
    "class Engine:\n",
    "    def __init__(self, engine_name):\n",
    "        self.engine_name=engine_name\n",
    "        \n",
    "class Vehicle:\n",
    "    def __init__(self,vehicle_name):\n",
    "        self.vehicle_name=vehicle_name\n",
    "        \n",
    "class Car(Vehicle,Engine):\n",
    "    def __init__(self,vehicle_name,company_name,engine_name,no_of_seats):\n",
    "        self.company_name=company_name\n",
    "        self.no_of_seats=no_of_seats\n",
    "        Vehicle.vehicle_name=vehicle_name\n",
    "        Engine.engine_name=engine_name\n",
    "    def get_details(self):\n",
    "        print(self.vehicle_name,self.company_name,self.engine_name,self.no_of_seats)\n",
    "\n",
    "\n",
    "        "
   ]
  },
  {
   "cell_type": "code",
   "execution_count": 21,
   "id": "4e56848d",
   "metadata": {},
   "outputs": [],
   "source": [
    "c=Car('Car','Tata','Electric',8)"
   ]
  },
  {
   "cell_type": "code",
   "execution_count": 22,
   "id": "a445ab30",
   "metadata": {},
   "outputs": [
    {
     "name": "stdout",
     "output_type": "stream",
     "text": [
      "Car Tata Electric 8\n"
     ]
    }
   ],
   "source": [
    "c.get_details()"
   ]
  },
  {
   "cell_type": "code",
   "execution_count": 23,
   "id": "cd72b347",
   "metadata": {},
   "outputs": [],
   "source": [
    "# Q4. What are getter and setter in python? Create a class and create a getter and a setter method in this\n",
    "# class."
   ]
  },
  {
   "cell_type": "code",
   "execution_count": 25,
   "id": "be7b5de5",
   "metadata": {},
   "outputs": [],
   "source": [
    "# getter and setter, is used to get the properties of object \n",
    "# and set them with new values, helps in  abstraction and encaptulation,"
   ]
  },
  {
   "cell_type": "code",
   "execution_count": 1,
   "id": "296455de",
   "metadata": {},
   "outputs": [],
   "source": [
    "class Vehicle:\n",
    "    def  __init__(self,name_of_vehicle,max_speed,average_of_vehicle):\n",
    "            self.name_of_vehicle=name_of_vehicle\n",
    "            self.max_speed=max_speed\n",
    "            self.average_of_vehicle=average_of_vehicle\n",
    "    # getter for name_of_vehicle\n",
    "    @property\n",
    "    def name_of_vehicle(self):\n",
    "        return self._name_of_vehicle\n",
    "\n",
    "    # setter for name_of_vehicle\n",
    "    @name_of_vehicle.setter\n",
    "    def name_of_vehicle(self, name_of_vehicle):\n",
    "        self._name_of_vehicle = name_of_vehicle\n",
    "\n",
    "    # getter for max_speed\n",
    "    @property\n",
    "    def max_speed(self):\n",
    "        return self._max_speed\n",
    "\n",
    "    # setter for max_speed\n",
    "    @max_speed.setter\n",
    "    def max_speed(self, max_speed):\n",
    "        self._max_speed = max_speed\n",
    "\n",
    "    # getter for average_of_vehicle\n",
    "    @property\n",
    "    def average_of_vehicle(self):\n",
    "        return self._average_of_vehicle\n",
    "\n",
    "    # setter for average_of_vehicle\n",
    "    @average_of_vehicle.setter\n",
    "    def average_of_vehicle(self, average_of_vehicle):\n",
    "        self._average_of_vehicle = average_of_vehicle\n",
    "        "
   ]
  },
  {
   "cell_type": "code",
   "execution_count": null,
   "id": "b0f19cb7",
   "metadata": {},
   "outputs": [],
   "source": []
  }
 ],
 "metadata": {
  "kernelspec": {
   "display_name": "Python 3 (ipykernel)",
   "language": "python",
   "name": "python3"
  },
  "language_info": {
   "codemirror_mode": {
    "name": "ipython",
    "version": 3
   },
   "file_extension": ".py",
   "mimetype": "text/x-python",
   "name": "python",
   "nbconvert_exporter": "python",
   "pygments_lexer": "ipython3",
   "version": "3.9.13"
  }
 },
 "nbformat": 4,
 "nbformat_minor": 5
}
